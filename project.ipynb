{
 "cells": [
  {
   "cell_type": "markdown",
   "metadata": {},
   "source": [
    "Cfd vs underlying assset <br> by Anatolii Frolov"
   ]
  },
  {
   "cell_type": "markdown",
   "metadata": {},
   "source": [
    "Let's explore all the points we need to adress in this project: \n",
    "1. We need to scoop up the data\n",
    "    1. BTC/USD data with the 1s delays \n",
    "        - It's easy but requires the api key ( it was ruined , so just downloaded it)\n",
    "    2. BTC/USD cfd data from dukascopy brokerage\n",
    "        - Here we needed to adress the problem of max one day data extraction\n",
    "            - It's solved by a library that was written by one guy https://github.com/algogenetic/dukascopy-1\n",
    "2. We need to convert with pct_change to be not iid but to contain that sweet mean-reversion that we need \n",
    "3. We need to adress the problem of CFD been traded on Swiss trading hours \n",
    "    1. We can use the unused hours to calculate the volatility for period using variation of garch(preferably t-garch as I want this to be riskless strategy with initial payoff of zero)\n",
    "    2. We can just delete the extra(unused hours)\n",
    "4. We need to introduce the points of entry for the model and exits\n",
    "    - Rsi for example (implementation in the document)\n",
    "    - MACD https://www.quantifiedstrategies.com/python-and-macd-trading-strategy/\n",
    "    - ATR https://www.quantifiedstrategies.com/average-true-range-trading-strategy-in-python/\n",
    "5. Teaching the regression on best combo of this two ways of buying -> setting up weights\n",
    "6. Backtesting the model on 2018 - 2021\n",
    "7. Results \n",
    "        "
   ]
  },
  {
   "cell_type": "markdown",
   "metadata": {},
   "source": [
    "# Data"
   ]
  },
  {
   "cell_type": "markdown",
   "metadata": {},
   "source": [
    "## Dukascopy"
   ]
  },
  {
   "cell_type": "code",
   "execution_count": 211,
   "metadata": {},
   "outputs": [],
   "source": [
    "import numpy as np\n",
    "import pandas as pd"
   ]
  },
  {
   "cell_type": "code",
   "execution_count": 212,
   "metadata": {},
   "outputs": [
    {
     "name": "stdout",
     "output_type": "stream",
     "text": [
      "Module imported successfully!\n"
     ]
    }
   ],
   "source": [
    "import importlib\n",
    "try:\n",
    "    dukascopy = importlib.import_module('dukascopy')\n",
    "    print(\"Module imported successfully!\")\n",
    "except ImportError as e:\n",
    "    print(f\"ImportError: {e}\")"
   ]
  },
  {
   "cell_type": "markdown",
   "metadata": {},
   "source": [
    "Fun fact this packagewas stolen from the user guise88, his original package works way better, im going to show you\n",
    "- It's only terminal package and requires some skills to it\n",
    "- You can directly install it by typing pip install duka\n",
    "- then write duka -h , to get some help"
   ]
  },
  {
   "cell_type": "markdown",
   "metadata": {},
   "source": [
    "Quick update: I spent several hours rewriting the package and got NOTHING from it, I could've done myself way faster, the reaseon is the error that i get, maybe it's related to cookies or,as i think, this: </br> File \"/Users/anatoliifrolov/Desktop/machete/venv/lib/python3.10/site-packages/duka/core/fetch.py\", line 38, in get\n",
    "    raise Exception(\"Request failed for {0} after ATTEMPTS attempts\".format(url))\n",
    "Exception: Request failed for https://www.dukascopy.com/datafeed/BTCUSD/2019/00/20/23h_ticks.bi5 after ATTEMPTS attempts"
   ]
  },
  {
   "cell_type": "markdown",
   "metadata": {},
   "source": [
    "The link is broken beyond repair and the code in repo is not readable for me so i guess i have to merge the data manually </br> how cool is that, moreover, now i can't do 1s ticks, so everything is ruined! Hooray, now, my project is not ideal \n"
   ]
  },
  {
   "cell_type": "code",
   "execution_count": 213,
   "metadata": {},
   "outputs": [],
   "source": [
    "data1 = pd.read_csv('d1.csv')"
   ]
  },
  {
   "cell_type": "code",
   "execution_count": 214,
   "metadata": {},
   "outputs": [],
   "source": [
    "data2 = pd.read_csv('d2.csv')"
   ]
  },
  {
   "cell_type": "code",
   "execution_count": 215,
   "metadata": {},
   "outputs": [],
   "source": [
    "data3 = pd.read_csv('d3.csv')"
   ]
  },
  {
   "cell_type": "markdown",
   "metadata": {},
   "source": [
    "Only have the data fromthe creation of cfd : 2017-05-31"
   ]
  },
  {
   "cell_type": "code",
   "execution_count": 216,
   "metadata": {},
   "outputs": [],
   "source": [
    "data_cfd = pd.concat([data1,data2,data3])"
   ]
  },
  {
   "cell_type": "code",
   "execution_count": 217,
   "metadata": {},
   "outputs": [
    {
     "data": {
      "text/html": [
       "<div>\n",
       "<style scoped>\n",
       "    .dataframe tbody tr th:only-of-type {\n",
       "        vertical-align: middle;\n",
       "    }\n",
       "\n",
       "    .dataframe tbody tr th {\n",
       "        vertical-align: top;\n",
       "    }\n",
       "\n",
       "    .dataframe thead th {\n",
       "        text-align: right;\n",
       "    }\n",
       "</style>\n",
       "<table border=\"1\" class=\"dataframe\">\n",
       "  <thead>\n",
       "    <tr style=\"text-align: right;\">\n",
       "      <th></th>\n",
       "      <th>Gmt time</th>\n",
       "      <th>Open</th>\n",
       "      <th>High</th>\n",
       "      <th>Low</th>\n",
       "      <th>Close</th>\n",
       "      <th>Volume</th>\n",
       "    </tr>\n",
       "  </thead>\n",
       "  <tbody>\n",
       "    <tr>\n",
       "      <th>0</th>\n",
       "      <td>31.05.2017 00:00:00.000</td>\n",
       "      <td>2191</td>\n",
       "      <td>2203</td>\n",
       "      <td>2188</td>\n",
       "      <td>2189</td>\n",
       "      <td>2.1260</td>\n",
       "    </tr>\n",
       "    <tr>\n",
       "      <th>1</th>\n",
       "      <td>31.05.2017 00:01:00.000</td>\n",
       "      <td>2190</td>\n",
       "      <td>2198</td>\n",
       "      <td>2189</td>\n",
       "      <td>2198</td>\n",
       "      <td>3.2553</td>\n",
       "    </tr>\n",
       "    <tr>\n",
       "      <th>2</th>\n",
       "      <td>31.05.2017 00:02:00.000</td>\n",
       "      <td>2198</td>\n",
       "      <td>2198</td>\n",
       "      <td>2184</td>\n",
       "      <td>2191</td>\n",
       "      <td>2.7114</td>\n",
       "    </tr>\n",
       "    <tr>\n",
       "      <th>3</th>\n",
       "      <td>31.05.2017 00:03:00.000</td>\n",
       "      <td>2192</td>\n",
       "      <td>2192</td>\n",
       "      <td>2186</td>\n",
       "      <td>2188</td>\n",
       "      <td>1.8737</td>\n",
       "    </tr>\n",
       "    <tr>\n",
       "      <th>4</th>\n",
       "      <td>31.05.2017 00:04:00.000</td>\n",
       "      <td>2188</td>\n",
       "      <td>2205</td>\n",
       "      <td>2184</td>\n",
       "      <td>2188</td>\n",
       "      <td>2.3516</td>\n",
       "    </tr>\n",
       "    <tr>\n",
       "      <th>...</th>\n",
       "      <td>...</td>\n",
       "      <td>...</td>\n",
       "      <td>...</td>\n",
       "      <td>...</td>\n",
       "      <td>...</td>\n",
       "      <td>...</td>\n",
       "    </tr>\n",
       "    <tr>\n",
       "      <th>1363675</th>\n",
       "      <td>01.01.2025 23:55:00.000</td>\n",
       "      <td>94361</td>\n",
       "      <td>94365</td>\n",
       "      <td>94351</td>\n",
       "      <td>94363</td>\n",
       "      <td>0.0002</td>\n",
       "    </tr>\n",
       "    <tr>\n",
       "      <th>1363676</th>\n",
       "      <td>01.01.2025 23:56:00.000</td>\n",
       "      <td>94365</td>\n",
       "      <td>94402</td>\n",
       "      <td>94363</td>\n",
       "      <td>94402</td>\n",
       "      <td>0.0001</td>\n",
       "    </tr>\n",
       "    <tr>\n",
       "      <th>1363677</th>\n",
       "      <td>01.01.2025 23:57:00.000</td>\n",
       "      <td>94402</td>\n",
       "      <td>94426</td>\n",
       "      <td>94402</td>\n",
       "      <td>94417</td>\n",
       "      <td>0.0002</td>\n",
       "    </tr>\n",
       "    <tr>\n",
       "      <th>1363678</th>\n",
       "      <td>01.01.2025 23:58:00.000</td>\n",
       "      <td>94412</td>\n",
       "      <td>94412</td>\n",
       "      <td>94382</td>\n",
       "      <td>94382</td>\n",
       "      <td>0.0002</td>\n",
       "    </tr>\n",
       "    <tr>\n",
       "      <th>1363679</th>\n",
       "      <td>01.01.2025 23:59:00.000</td>\n",
       "      <td>94379</td>\n",
       "      <td>94407</td>\n",
       "      <td>94344</td>\n",
       "      <td>94350</td>\n",
       "      <td>0.0003</td>\n",
       "    </tr>\n",
       "  </tbody>\n",
       "</table>\n",
       "<p>3956662 rows × 6 columns</p>\n",
       "</div>"
      ],
      "text/plain": [
       "                        Gmt time   Open   High    Low  Close  Volume\n",
       "0        31.05.2017 00:00:00.000   2191   2203   2188   2189  2.1260\n",
       "1        31.05.2017 00:01:00.000   2190   2198   2189   2198  3.2553\n",
       "2        31.05.2017 00:02:00.000   2198   2198   2184   2191  2.7114\n",
       "3        31.05.2017 00:03:00.000   2192   2192   2186   2188  1.8737\n",
       "4        31.05.2017 00:04:00.000   2188   2205   2184   2188  2.3516\n",
       "...                          ...    ...    ...    ...    ...     ...\n",
       "1363675  01.01.2025 23:55:00.000  94361  94365  94351  94363  0.0002\n",
       "1363676  01.01.2025 23:56:00.000  94365  94402  94363  94402  0.0001\n",
       "1363677  01.01.2025 23:57:00.000  94402  94426  94402  94417  0.0002\n",
       "1363678  01.01.2025 23:58:00.000  94412  94412  94382  94382  0.0002\n",
       "1363679  01.01.2025 23:59:00.000  94379  94407  94344  94350  0.0003\n",
       "\n",
       "[3956662 rows x 6 columns]"
      ]
     },
     "execution_count": 217,
     "metadata": {},
     "output_type": "execute_result"
    }
   ],
   "source": [
    "data_cfd # everything looks right, just need to reset the index"
   ]
  },
  {
   "cell_type": "code",
   "execution_count": 218,
   "metadata": {},
   "outputs": [],
   "source": [
    "data_cfd = data_cfd.reset_index(drop = True,inplace =False)"
   ]
  },
  {
   "cell_type": "code",
   "execution_count": 219,
   "metadata": {},
   "outputs": [
    {
     "data": {
      "text/html": [
       "<div>\n",
       "<style scoped>\n",
       "    .dataframe tbody tr th:only-of-type {\n",
       "        vertical-align: middle;\n",
       "    }\n",
       "\n",
       "    .dataframe tbody tr th {\n",
       "        vertical-align: top;\n",
       "    }\n",
       "\n",
       "    .dataframe thead th {\n",
       "        text-align: right;\n",
       "    }\n",
       "</style>\n",
       "<table border=\"1\" class=\"dataframe\">\n",
       "  <thead>\n",
       "    <tr style=\"text-align: right;\">\n",
       "      <th></th>\n",
       "      <th>Gmt time</th>\n",
       "      <th>Open</th>\n",
       "      <th>High</th>\n",
       "      <th>Low</th>\n",
       "      <th>Close</th>\n",
       "      <th>Volume</th>\n",
       "    </tr>\n",
       "  </thead>\n",
       "  <tbody>\n",
       "    <tr>\n",
       "      <th>0</th>\n",
       "      <td>31.05.2017 00:00:00.000</td>\n",
       "      <td>2191</td>\n",
       "      <td>2203</td>\n",
       "      <td>2188</td>\n",
       "      <td>2189</td>\n",
       "      <td>2.1260</td>\n",
       "    </tr>\n",
       "    <tr>\n",
       "      <th>1</th>\n",
       "      <td>31.05.2017 00:01:00.000</td>\n",
       "      <td>2190</td>\n",
       "      <td>2198</td>\n",
       "      <td>2189</td>\n",
       "      <td>2198</td>\n",
       "      <td>3.2553</td>\n",
       "    </tr>\n",
       "    <tr>\n",
       "      <th>2</th>\n",
       "      <td>31.05.2017 00:02:00.000</td>\n",
       "      <td>2198</td>\n",
       "      <td>2198</td>\n",
       "      <td>2184</td>\n",
       "      <td>2191</td>\n",
       "      <td>2.7114</td>\n",
       "    </tr>\n",
       "    <tr>\n",
       "      <th>3</th>\n",
       "      <td>31.05.2017 00:03:00.000</td>\n",
       "      <td>2192</td>\n",
       "      <td>2192</td>\n",
       "      <td>2186</td>\n",
       "      <td>2188</td>\n",
       "      <td>1.8737</td>\n",
       "    </tr>\n",
       "    <tr>\n",
       "      <th>4</th>\n",
       "      <td>31.05.2017 00:04:00.000</td>\n",
       "      <td>2188</td>\n",
       "      <td>2205</td>\n",
       "      <td>2184</td>\n",
       "      <td>2188</td>\n",
       "      <td>2.3516</td>\n",
       "    </tr>\n",
       "    <tr>\n",
       "      <th>...</th>\n",
       "      <td>...</td>\n",
       "      <td>...</td>\n",
       "      <td>...</td>\n",
       "      <td>...</td>\n",
       "      <td>...</td>\n",
       "      <td>...</td>\n",
       "    </tr>\n",
       "    <tr>\n",
       "      <th>3956657</th>\n",
       "      <td>01.01.2025 23:55:00.000</td>\n",
       "      <td>94361</td>\n",
       "      <td>94365</td>\n",
       "      <td>94351</td>\n",
       "      <td>94363</td>\n",
       "      <td>0.0002</td>\n",
       "    </tr>\n",
       "    <tr>\n",
       "      <th>3956658</th>\n",
       "      <td>01.01.2025 23:56:00.000</td>\n",
       "      <td>94365</td>\n",
       "      <td>94402</td>\n",
       "      <td>94363</td>\n",
       "      <td>94402</td>\n",
       "      <td>0.0001</td>\n",
       "    </tr>\n",
       "    <tr>\n",
       "      <th>3956659</th>\n",
       "      <td>01.01.2025 23:57:00.000</td>\n",
       "      <td>94402</td>\n",
       "      <td>94426</td>\n",
       "      <td>94402</td>\n",
       "      <td>94417</td>\n",
       "      <td>0.0002</td>\n",
       "    </tr>\n",
       "    <tr>\n",
       "      <th>3956660</th>\n",
       "      <td>01.01.2025 23:58:00.000</td>\n",
       "      <td>94412</td>\n",
       "      <td>94412</td>\n",
       "      <td>94382</td>\n",
       "      <td>94382</td>\n",
       "      <td>0.0002</td>\n",
       "    </tr>\n",
       "    <tr>\n",
       "      <th>3956661</th>\n",
       "      <td>01.01.2025 23:59:00.000</td>\n",
       "      <td>94379</td>\n",
       "      <td>94407</td>\n",
       "      <td>94344</td>\n",
       "      <td>94350</td>\n",
       "      <td>0.0003</td>\n",
       "    </tr>\n",
       "  </tbody>\n",
       "</table>\n",
       "<p>3956662 rows × 6 columns</p>\n",
       "</div>"
      ],
      "text/plain": [
       "                        Gmt time   Open   High    Low  Close  Volume\n",
       "0        31.05.2017 00:00:00.000   2191   2203   2188   2189  2.1260\n",
       "1        31.05.2017 00:01:00.000   2190   2198   2189   2198  3.2553\n",
       "2        31.05.2017 00:02:00.000   2198   2198   2184   2191  2.7114\n",
       "3        31.05.2017 00:03:00.000   2192   2192   2186   2188  1.8737\n",
       "4        31.05.2017 00:04:00.000   2188   2205   2184   2188  2.3516\n",
       "...                          ...    ...    ...    ...    ...     ...\n",
       "3956657  01.01.2025 23:55:00.000  94361  94365  94351  94363  0.0002\n",
       "3956658  01.01.2025 23:56:00.000  94365  94402  94363  94402  0.0001\n",
       "3956659  01.01.2025 23:57:00.000  94402  94426  94402  94417  0.0002\n",
       "3956660  01.01.2025 23:58:00.000  94412  94412  94382  94382  0.0002\n",
       "3956661  01.01.2025 23:59:00.000  94379  94407  94344  94350  0.0003\n",
       "\n",
       "[3956662 rows x 6 columns]"
      ]
     },
     "execution_count": 219,
     "metadata": {},
     "output_type": "execute_result"
    }
   ],
   "source": [
    "data_cfd"
   ]
  },
  {
   "cell_type": "code",
   "execution_count": 220,
   "metadata": {},
   "outputs": [],
   "source": [
    "data_cfd['Gmt time'] = pd.to_datetime(data_cfd['Gmt time'], format='%d.%m.%Y %H:%M:%S.%f')\n"
   ]
  },
  {
   "cell_type": "code",
   "execution_count": 221,
   "metadata": {},
   "outputs": [
    {
     "data": {
      "text/html": [
       "<div>\n",
       "<style scoped>\n",
       "    .dataframe tbody tr th:only-of-type {\n",
       "        vertical-align: middle;\n",
       "    }\n",
       "\n",
       "    .dataframe tbody tr th {\n",
       "        vertical-align: top;\n",
       "    }\n",
       "\n",
       "    .dataframe thead th {\n",
       "        text-align: right;\n",
       "    }\n",
       "</style>\n",
       "<table border=\"1\" class=\"dataframe\">\n",
       "  <thead>\n",
       "    <tr style=\"text-align: right;\">\n",
       "      <th></th>\n",
       "      <th>Gmt time</th>\n",
       "      <th>Open</th>\n",
       "      <th>High</th>\n",
       "      <th>Low</th>\n",
       "      <th>Close</th>\n",
       "      <th>Volume</th>\n",
       "    </tr>\n",
       "  </thead>\n",
       "  <tbody>\n",
       "    <tr>\n",
       "      <th>0</th>\n",
       "      <td>2017-05-31 00:00:00</td>\n",
       "      <td>2191</td>\n",
       "      <td>2203</td>\n",
       "      <td>2188</td>\n",
       "      <td>2189</td>\n",
       "      <td>2.1260</td>\n",
       "    </tr>\n",
       "    <tr>\n",
       "      <th>1</th>\n",
       "      <td>2017-05-31 00:01:00</td>\n",
       "      <td>2190</td>\n",
       "      <td>2198</td>\n",
       "      <td>2189</td>\n",
       "      <td>2198</td>\n",
       "      <td>3.2553</td>\n",
       "    </tr>\n",
       "    <tr>\n",
       "      <th>2</th>\n",
       "      <td>2017-05-31 00:02:00</td>\n",
       "      <td>2198</td>\n",
       "      <td>2198</td>\n",
       "      <td>2184</td>\n",
       "      <td>2191</td>\n",
       "      <td>2.7114</td>\n",
       "    </tr>\n",
       "    <tr>\n",
       "      <th>3</th>\n",
       "      <td>2017-05-31 00:03:00</td>\n",
       "      <td>2192</td>\n",
       "      <td>2192</td>\n",
       "      <td>2186</td>\n",
       "      <td>2188</td>\n",
       "      <td>1.8737</td>\n",
       "    </tr>\n",
       "    <tr>\n",
       "      <th>4</th>\n",
       "      <td>2017-05-31 00:04:00</td>\n",
       "      <td>2188</td>\n",
       "      <td>2205</td>\n",
       "      <td>2184</td>\n",
       "      <td>2188</td>\n",
       "      <td>2.3516</td>\n",
       "    </tr>\n",
       "  </tbody>\n",
       "</table>\n",
       "</div>"
      ],
      "text/plain": [
       "             Gmt time  Open  High   Low  Close  Volume\n",
       "0 2017-05-31 00:00:00  2191  2203  2188   2189  2.1260\n",
       "1 2017-05-31 00:01:00  2190  2198  2189   2198  3.2553\n",
       "2 2017-05-31 00:02:00  2198  2198  2184   2191  2.7114\n",
       "3 2017-05-31 00:03:00  2192  2192  2186   2188  1.8737\n",
       "4 2017-05-31 00:04:00  2188  2205  2184   2188  2.3516"
      ]
     },
     "execution_count": 221,
     "metadata": {},
     "output_type": "execute_result"
    }
   ],
   "source": [
    "data_cfd.head()"
   ]
  },
  {
   "cell_type": "markdown",
   "metadata": {},
   "source": [
    "## BTCdata\n"
   ]
  },
  {
   "cell_type": "code",
   "execution_count": 222,
   "metadata": {},
   "outputs": [],
   "source": [
    "import yfinance as yf\n",
    "from yfinance import Ticker"
   ]
  },
  {
   "cell_type": "code",
   "execution_count": 223,
   "metadata": {},
   "outputs": [],
   "source": [
    "BTC = yf.Ticker('BTC-USD')"
   ]
  },
  {
   "cell_type": "code",
   "execution_count": 224,
   "metadata": {},
   "outputs": [],
   "source": [
    "st = '2017-05-31'\n",
    "end = '2025-01-26'"
   ]
  },
  {
   "cell_type": "code",
   "execution_count": 225,
   "metadata": {},
   "outputs": [
    {
     "name": "stderr",
     "output_type": "stream",
     "text": [
      "$BTC-USD: possibly delisted; no price data found  (1m 2017-05-31 -> 2025-01-26) (Yahoo error = \"1m data not available for startTime=1496188800 and endTime=1737849600. Only 8 days worth of 1m granularity data are allowed to be fetched per request.\")\n"
     ]
    },
    {
     "data": {
      "text/html": [
       "<div>\n",
       "<style scoped>\n",
       "    .dataframe tbody tr th:only-of-type {\n",
       "        vertical-align: middle;\n",
       "    }\n",
       "\n",
       "    .dataframe tbody tr th {\n",
       "        vertical-align: top;\n",
       "    }\n",
       "\n",
       "    .dataframe thead th {\n",
       "        text-align: right;\n",
       "    }\n",
       "</style>\n",
       "<table border=\"1\" class=\"dataframe\">\n",
       "  <thead>\n",
       "    <tr style=\"text-align: right;\">\n",
       "      <th></th>\n",
       "      <th>Open</th>\n",
       "      <th>High</th>\n",
       "      <th>Low</th>\n",
       "      <th>Close</th>\n",
       "      <th>Adj Close</th>\n",
       "      <th>Volume</th>\n",
       "    </tr>\n",
       "    <tr>\n",
       "      <th>Date</th>\n",
       "      <th></th>\n",
       "      <th></th>\n",
       "      <th></th>\n",
       "      <th></th>\n",
       "      <th></th>\n",
       "      <th></th>\n",
       "    </tr>\n",
       "  </thead>\n",
       "  <tbody>\n",
       "  </tbody>\n",
       "</table>\n",
       "</div>"
      ],
      "text/plain": [
       "Empty DataFrame\n",
       "Columns: [Open, High, Low, Close, Adj Close, Volume]\n",
       "Index: []"
      ]
     },
     "execution_count": 225,
     "metadata": {},
     "output_type": "execute_result"
    }
   ],
   "source": [
    "BTC.history(start =st, end = end, interval = '1m' )"
   ]
  },
  {
   "cell_type": "markdown",
   "metadata": {},
   "source": [
    "HOW COOL IS THAT THEY TOO HAVE A PROBLEM WITH DATA))))))"
   ]
  },
  {
   "cell_type": "code",
   "execution_count": 226,
   "metadata": {},
   "outputs": [],
   "source": [
    "# i just stole it from here https://www.kaggle.com/datasets/imranbukhari/comprehensive-btcusd-1m-data?resource=download\n",
    "data_btc = pd.read_csv('d4.csv')"
   ]
  },
  {
   "cell_type": "code",
   "execution_count": 227,
   "metadata": {},
   "outputs": [
    {
     "data": {
      "text/html": [
       "<div>\n",
       "<style scoped>\n",
       "    .dataframe tbody tr th:only-of-type {\n",
       "        vertical-align: middle;\n",
       "    }\n",
       "\n",
       "    .dataframe tbody tr th {\n",
       "        vertical-align: top;\n",
       "    }\n",
       "\n",
       "    .dataframe thead th {\n",
       "        text-align: right;\n",
       "    }\n",
       "</style>\n",
       "<table border=\"1\" class=\"dataframe\">\n",
       "  <thead>\n",
       "    <tr style=\"text-align: right;\">\n",
       "      <th></th>\n",
       "      <th>Open time</th>\n",
       "      <th>Open</th>\n",
       "      <th>High</th>\n",
       "      <th>Low</th>\n",
       "      <th>Close</th>\n",
       "      <th>Volume</th>\n",
       "      <th>Close time</th>\n",
       "      <th>Quote asset volume</th>\n",
       "      <th>Number of trades</th>\n",
       "      <th>Taker buy base asset volume</th>\n",
       "      <th>Taker buy quote asset volume</th>\n",
       "      <th>Ignore</th>\n",
       "    </tr>\n",
       "  </thead>\n",
       "  <tbody>\n",
       "    <tr>\n",
       "      <th>0</th>\n",
       "      <td>2017-08-17 04:00:00</td>\n",
       "      <td>4261.48</td>\n",
       "      <td>4261.48</td>\n",
       "      <td>4261.48</td>\n",
       "      <td>4261.48</td>\n",
       "      <td>1.775183</td>\n",
       "      <td>2017-08-17 04:00:59.999</td>\n",
       "      <td>7564.906851</td>\n",
       "      <td>3.0</td>\n",
       "      <td>0.075183</td>\n",
       "      <td>320.390851</td>\n",
       "      <td>0.0</td>\n",
       "    </tr>\n",
       "    <tr>\n",
       "      <th>1</th>\n",
       "      <td>2017-08-17 04:01:00</td>\n",
       "      <td>4261.48</td>\n",
       "      <td>4261.48</td>\n",
       "      <td>4261.48</td>\n",
       "      <td>4261.48</td>\n",
       "      <td>0.000000</td>\n",
       "      <td>2017-08-17 04:01:59.999</td>\n",
       "      <td>0.000000</td>\n",
       "      <td>0.0</td>\n",
       "      <td>0.000000</td>\n",
       "      <td>0.000000</td>\n",
       "      <td>0.0</td>\n",
       "    </tr>\n",
       "    <tr>\n",
       "      <th>2</th>\n",
       "      <td>2017-08-17 04:02:00</td>\n",
       "      <td>4280.56</td>\n",
       "      <td>4280.56</td>\n",
       "      <td>4280.56</td>\n",
       "      <td>4280.56</td>\n",
       "      <td>0.261074</td>\n",
       "      <td>2017-08-17 04:02:59.999</td>\n",
       "      <td>1117.542921</td>\n",
       "      <td>2.0</td>\n",
       "      <td>0.261074</td>\n",
       "      <td>1117.542921</td>\n",
       "      <td>0.0</td>\n",
       "    </tr>\n",
       "    <tr>\n",
       "      <th>3</th>\n",
       "      <td>2017-08-17 04:03:00</td>\n",
       "      <td>4261.48</td>\n",
       "      <td>4261.48</td>\n",
       "      <td>4261.48</td>\n",
       "      <td>4261.48</td>\n",
       "      <td>0.012008</td>\n",
       "      <td>2017-08-17 04:03:59.999</td>\n",
       "      <td>51.171852</td>\n",
       "      <td>3.0</td>\n",
       "      <td>0.012008</td>\n",
       "      <td>51.171852</td>\n",
       "      <td>0.0</td>\n",
       "    </tr>\n",
       "    <tr>\n",
       "      <th>4</th>\n",
       "      <td>2017-08-17 04:04:00</td>\n",
       "      <td>4261.48</td>\n",
       "      <td>4261.48</td>\n",
       "      <td>4261.48</td>\n",
       "      <td>4261.48</td>\n",
       "      <td>0.140796</td>\n",
       "      <td>2017-08-17 04:04:59.999</td>\n",
       "      <td>599.999338</td>\n",
       "      <td>1.0</td>\n",
       "      <td>0.140796</td>\n",
       "      <td>599.999338</td>\n",
       "      <td>0.0</td>\n",
       "    </tr>\n",
       "  </tbody>\n",
       "</table>\n",
       "</div>"
      ],
      "text/plain": [
       "             Open time     Open     High      Low    Close    Volume  \\\n",
       "0  2017-08-17 04:00:00  4261.48  4261.48  4261.48  4261.48  1.775183   \n",
       "1  2017-08-17 04:01:00  4261.48  4261.48  4261.48  4261.48  0.000000   \n",
       "2  2017-08-17 04:02:00  4280.56  4280.56  4280.56  4280.56  0.261074   \n",
       "3  2017-08-17 04:03:00  4261.48  4261.48  4261.48  4261.48  0.012008   \n",
       "4  2017-08-17 04:04:00  4261.48  4261.48  4261.48  4261.48  0.140796   \n",
       "\n",
       "                Close time  Quote asset volume  Number of trades  \\\n",
       "0  2017-08-17 04:00:59.999         7564.906851               3.0   \n",
       "1  2017-08-17 04:01:59.999            0.000000               0.0   \n",
       "2  2017-08-17 04:02:59.999         1117.542921               2.0   \n",
       "3  2017-08-17 04:03:59.999           51.171852               3.0   \n",
       "4  2017-08-17 04:04:59.999          599.999338               1.0   \n",
       "\n",
       "   Taker buy base asset volume  Taker buy quote asset volume  Ignore  \n",
       "0                     0.075183                    320.390851     0.0  \n",
       "1                     0.000000                      0.000000     0.0  \n",
       "2                     0.261074                   1117.542921     0.0  \n",
       "3                     0.012008                     51.171852     0.0  \n",
       "4                     0.140796                    599.999338     0.0  "
      ]
     },
     "execution_count": 227,
     "metadata": {},
     "output_type": "execute_result"
    }
   ],
   "source": [
    "data_btc.head()"
   ]
  },
  {
   "cell_type": "markdown",
   "metadata": {},
   "source": [
    "Now, i will cut the data to start from \"2017-08-17 04:00:00\""
   ]
  },
  {
   "cell_type": "markdown",
   "metadata": {},
   "source": [
    "And btc one to end at\"2025-01-01 23:59:00\""
   ]
  },
  {
   "cell_type": "code",
   "execution_count": 228,
   "metadata": {},
   "outputs": [
    {
     "data": {
      "text/plain": [
       "dtype('O')"
      ]
     },
     "execution_count": 228,
     "metadata": {},
     "output_type": "execute_result"
    }
   ],
   "source": [
    "data_btc['Open time'].dtype"
   ]
  },
  {
   "cell_type": "code",
   "execution_count": 229,
   "metadata": {},
   "outputs": [],
   "source": [
    "data_btc['Open time'] = pd.to_datetime(data_btc['Open time'])\n"
   ]
  },
  {
   "cell_type": "code",
   "execution_count": 230,
   "metadata": {},
   "outputs": [],
   "source": [
    "# data_btc['Open time'] = pd.to_datetime(data_btc['Open time'], format='%d.%m.%Y %H:%M:%S.%f')\n"
   ]
  },
  {
   "cell_type": "markdown",
   "metadata": {},
   "source": [
    "### Data cutting"
   ]
  },
  {
   "cell_type": "code",
   "execution_count": 231,
   "metadata": {},
   "outputs": [
    {
     "data": {
      "text/html": [
       "<div>\n",
       "<style scoped>\n",
       "    .dataframe tbody tr th:only-of-type {\n",
       "        vertical-align: middle;\n",
       "    }\n",
       "\n",
       "    .dataframe tbody tr th {\n",
       "        vertical-align: top;\n",
       "    }\n",
       "\n",
       "    .dataframe thead th {\n",
       "        text-align: right;\n",
       "    }\n",
       "</style>\n",
       "<table border=\"1\" class=\"dataframe\">\n",
       "  <thead>\n",
       "    <tr style=\"text-align: right;\">\n",
       "      <th></th>\n",
       "      <th>Gmt time</th>\n",
       "      <th>Open</th>\n",
       "      <th>High</th>\n",
       "      <th>Low</th>\n",
       "      <th>Close</th>\n",
       "      <th>Volume</th>\n",
       "    </tr>\n",
       "  </thead>\n",
       "  <tbody>\n",
       "    <tr>\n",
       "      <th>0</th>\n",
       "      <td>2017-05-31 00:00:00</td>\n",
       "      <td>2191</td>\n",
       "      <td>2203</td>\n",
       "      <td>2188</td>\n",
       "      <td>2189</td>\n",
       "      <td>2.1260</td>\n",
       "    </tr>\n",
       "    <tr>\n",
       "      <th>1</th>\n",
       "      <td>2017-05-31 00:01:00</td>\n",
       "      <td>2190</td>\n",
       "      <td>2198</td>\n",
       "      <td>2189</td>\n",
       "      <td>2198</td>\n",
       "      <td>3.2553</td>\n",
       "    </tr>\n",
       "    <tr>\n",
       "      <th>2</th>\n",
       "      <td>2017-05-31 00:02:00</td>\n",
       "      <td>2198</td>\n",
       "      <td>2198</td>\n",
       "      <td>2184</td>\n",
       "      <td>2191</td>\n",
       "      <td>2.7114</td>\n",
       "    </tr>\n",
       "    <tr>\n",
       "      <th>3</th>\n",
       "      <td>2017-05-31 00:03:00</td>\n",
       "      <td>2192</td>\n",
       "      <td>2192</td>\n",
       "      <td>2186</td>\n",
       "      <td>2188</td>\n",
       "      <td>1.8737</td>\n",
       "    </tr>\n",
       "    <tr>\n",
       "      <th>4</th>\n",
       "      <td>2017-05-31 00:04:00</td>\n",
       "      <td>2188</td>\n",
       "      <td>2205</td>\n",
       "      <td>2184</td>\n",
       "      <td>2188</td>\n",
       "      <td>2.3516</td>\n",
       "    </tr>\n",
       "  </tbody>\n",
       "</table>\n",
       "</div>"
      ],
      "text/plain": [
       "             Gmt time  Open  High   Low  Close  Volume\n",
       "0 2017-05-31 00:00:00  2191  2203  2188   2189  2.1260\n",
       "1 2017-05-31 00:01:00  2190  2198  2189   2198  3.2553\n",
       "2 2017-05-31 00:02:00  2198  2198  2184   2191  2.7114\n",
       "3 2017-05-31 00:03:00  2192  2192  2186   2188  1.8737\n",
       "4 2017-05-31 00:04:00  2188  2205  2184   2188  2.3516"
      ]
     },
     "execution_count": 231,
     "metadata": {},
     "output_type": "execute_result"
    }
   ],
   "source": [
    "data_cfd.head()"
   ]
  },
  {
   "cell_type": "code",
   "execution_count": 232,
   "metadata": {},
   "outputs": [],
   "source": [
    "filtered_df_cfd = data_cfd[data_cfd['Gmt time'] > pd.to_datetime('2017-08-17 03:59:00')]\n"
   ]
  },
  {
   "cell_type": "code",
   "execution_count": 233,
   "metadata": {},
   "outputs": [
    {
     "data": {
      "text/html": [
       "<div>\n",
       "<style scoped>\n",
       "    .dataframe tbody tr th:only-of-type {\n",
       "        vertical-align: middle;\n",
       "    }\n",
       "\n",
       "    .dataframe tbody tr th {\n",
       "        vertical-align: top;\n",
       "    }\n",
       "\n",
       "    .dataframe thead th {\n",
       "        text-align: right;\n",
       "    }\n",
       "</style>\n",
       "<table border=\"1\" class=\"dataframe\">\n",
       "  <thead>\n",
       "    <tr style=\"text-align: right;\">\n",
       "      <th></th>\n",
       "      <th>Gmt time</th>\n",
       "      <th>Open</th>\n",
       "      <th>High</th>\n",
       "      <th>Low</th>\n",
       "      <th>Close</th>\n",
       "      <th>Volume</th>\n",
       "    </tr>\n",
       "  </thead>\n",
       "  <tbody>\n",
       "    <tr>\n",
       "      <th>112560</th>\n",
       "      <td>2017-08-17 04:00:00</td>\n",
       "      <td>4280</td>\n",
       "      <td>4287</td>\n",
       "      <td>4280</td>\n",
       "      <td>4280</td>\n",
       "      <td>0.3669</td>\n",
       "    </tr>\n",
       "    <tr>\n",
       "      <th>112561</th>\n",
       "      <td>2017-08-17 04:01:00</td>\n",
       "      <td>4280</td>\n",
       "      <td>4287</td>\n",
       "      <td>4280</td>\n",
       "      <td>4280</td>\n",
       "      <td>0.4473</td>\n",
       "    </tr>\n",
       "    <tr>\n",
       "      <th>112562</th>\n",
       "      <td>2017-08-17 04:02:00</td>\n",
       "      <td>4280</td>\n",
       "      <td>4280</td>\n",
       "      <td>4270</td>\n",
       "      <td>4271</td>\n",
       "      <td>1.5517</td>\n",
       "    </tr>\n",
       "    <tr>\n",
       "      <th>112563</th>\n",
       "      <td>2017-08-17 04:03:00</td>\n",
       "      <td>4271</td>\n",
       "      <td>4271</td>\n",
       "      <td>4270</td>\n",
       "      <td>4271</td>\n",
       "      <td>0.5356</td>\n",
       "    </tr>\n",
       "    <tr>\n",
       "      <th>112564</th>\n",
       "      <td>2017-08-17 04:04:00</td>\n",
       "      <td>4271</td>\n",
       "      <td>4280</td>\n",
       "      <td>4271</td>\n",
       "      <td>4273</td>\n",
       "      <td>3.5479</td>\n",
       "    </tr>\n",
       "  </tbody>\n",
       "</table>\n",
       "</div>"
      ],
      "text/plain": [
       "                  Gmt time  Open  High   Low  Close  Volume\n",
       "112560 2017-08-17 04:00:00  4280  4287  4280   4280  0.3669\n",
       "112561 2017-08-17 04:01:00  4280  4287  4280   4280  0.4473\n",
       "112562 2017-08-17 04:02:00  4280  4280  4270   4271  1.5517\n",
       "112563 2017-08-17 04:03:00  4271  4271  4270   4271  0.5356\n",
       "112564 2017-08-17 04:04:00  4271  4280  4271   4273  3.5479"
      ]
     },
     "execution_count": 233,
     "metadata": {},
     "output_type": "execute_result"
    }
   ],
   "source": [
    "filtered_df_cfd.head()"
   ]
  },
  {
   "cell_type": "code",
   "execution_count": 234,
   "metadata": {},
   "outputs": [],
   "source": [
    "filtered_df_btc = data_btc[data_btc['Open time'] < pd.to_datetime('2025-01-02 00:00:00')]\n"
   ]
  },
  {
   "cell_type": "code",
   "execution_count": 235,
   "metadata": {},
   "outputs": [
    {
     "data": {
      "text/html": [
       "<div>\n",
       "<style scoped>\n",
       "    .dataframe tbody tr th:only-of-type {\n",
       "        vertical-align: middle;\n",
       "    }\n",
       "\n",
       "    .dataframe tbody tr th {\n",
       "        vertical-align: top;\n",
       "    }\n",
       "\n",
       "    .dataframe thead th {\n",
       "        text-align: right;\n",
       "    }\n",
       "</style>\n",
       "<table border=\"1\" class=\"dataframe\">\n",
       "  <thead>\n",
       "    <tr style=\"text-align: right;\">\n",
       "      <th></th>\n",
       "      <th>Open time</th>\n",
       "      <th>Open</th>\n",
       "      <th>High</th>\n",
       "      <th>Low</th>\n",
       "      <th>Close</th>\n",
       "      <th>Volume</th>\n",
       "      <th>Close time</th>\n",
       "      <th>Quote asset volume</th>\n",
       "      <th>Number of trades</th>\n",
       "      <th>Taker buy base asset volume</th>\n",
       "      <th>Taker buy quote asset volume</th>\n",
       "      <th>Ignore</th>\n",
       "    </tr>\n",
       "  </thead>\n",
       "  <tbody>\n",
       "    <tr>\n",
       "      <th>0</th>\n",
       "      <td>2017-08-17 04:00:00</td>\n",
       "      <td>4261.48</td>\n",
       "      <td>4261.48</td>\n",
       "      <td>4261.48</td>\n",
       "      <td>4261.48</td>\n",
       "      <td>1.775183</td>\n",
       "      <td>2017-08-17 04:00:59.999</td>\n",
       "      <td>7564.906851</td>\n",
       "      <td>3.0</td>\n",
       "      <td>0.075183</td>\n",
       "      <td>320.390851</td>\n",
       "      <td>0.0</td>\n",
       "    </tr>\n",
       "    <tr>\n",
       "      <th>1</th>\n",
       "      <td>2017-08-17 04:01:00</td>\n",
       "      <td>4261.48</td>\n",
       "      <td>4261.48</td>\n",
       "      <td>4261.48</td>\n",
       "      <td>4261.48</td>\n",
       "      <td>0.000000</td>\n",
       "      <td>2017-08-17 04:01:59.999</td>\n",
       "      <td>0.000000</td>\n",
       "      <td>0.0</td>\n",
       "      <td>0.000000</td>\n",
       "      <td>0.000000</td>\n",
       "      <td>0.0</td>\n",
       "    </tr>\n",
       "    <tr>\n",
       "      <th>2</th>\n",
       "      <td>2017-08-17 04:02:00</td>\n",
       "      <td>4280.56</td>\n",
       "      <td>4280.56</td>\n",
       "      <td>4280.56</td>\n",
       "      <td>4280.56</td>\n",
       "      <td>0.261074</td>\n",
       "      <td>2017-08-17 04:02:59.999</td>\n",
       "      <td>1117.542921</td>\n",
       "      <td>2.0</td>\n",
       "      <td>0.261074</td>\n",
       "      <td>1117.542921</td>\n",
       "      <td>0.0</td>\n",
       "    </tr>\n",
       "    <tr>\n",
       "      <th>3</th>\n",
       "      <td>2017-08-17 04:03:00</td>\n",
       "      <td>4261.48</td>\n",
       "      <td>4261.48</td>\n",
       "      <td>4261.48</td>\n",
       "      <td>4261.48</td>\n",
       "      <td>0.012008</td>\n",
       "      <td>2017-08-17 04:03:59.999</td>\n",
       "      <td>51.171852</td>\n",
       "      <td>3.0</td>\n",
       "      <td>0.012008</td>\n",
       "      <td>51.171852</td>\n",
       "      <td>0.0</td>\n",
       "    </tr>\n",
       "    <tr>\n",
       "      <th>4</th>\n",
       "      <td>2017-08-17 04:04:00</td>\n",
       "      <td>4261.48</td>\n",
       "      <td>4261.48</td>\n",
       "      <td>4261.48</td>\n",
       "      <td>4261.48</td>\n",
       "      <td>0.140796</td>\n",
       "      <td>2017-08-17 04:04:59.999</td>\n",
       "      <td>599.999338</td>\n",
       "      <td>1.0</td>\n",
       "      <td>0.140796</td>\n",
       "      <td>599.999338</td>\n",
       "      <td>0.0</td>\n",
       "    </tr>\n",
       "  </tbody>\n",
       "</table>\n",
       "</div>"
      ],
      "text/plain": [
       "            Open time     Open     High      Low    Close    Volume  \\\n",
       "0 2017-08-17 04:00:00  4261.48  4261.48  4261.48  4261.48  1.775183   \n",
       "1 2017-08-17 04:01:00  4261.48  4261.48  4261.48  4261.48  0.000000   \n",
       "2 2017-08-17 04:02:00  4280.56  4280.56  4280.56  4280.56  0.261074   \n",
       "3 2017-08-17 04:03:00  4261.48  4261.48  4261.48  4261.48  0.012008   \n",
       "4 2017-08-17 04:04:00  4261.48  4261.48  4261.48  4261.48  0.140796   \n",
       "\n",
       "                Close time  Quote asset volume  Number of trades  \\\n",
       "0  2017-08-17 04:00:59.999         7564.906851               3.0   \n",
       "1  2017-08-17 04:01:59.999            0.000000               0.0   \n",
       "2  2017-08-17 04:02:59.999         1117.542921               2.0   \n",
       "3  2017-08-17 04:03:59.999           51.171852               3.0   \n",
       "4  2017-08-17 04:04:59.999          599.999338               1.0   \n",
       "\n",
       "   Taker buy base asset volume  Taker buy quote asset volume  Ignore  \n",
       "0                     0.075183                    320.390851     0.0  \n",
       "1                     0.000000                      0.000000     0.0  \n",
       "2                     0.261074                   1117.542921     0.0  \n",
       "3                     0.012008                     51.171852     0.0  \n",
       "4                     0.140796                    599.999338     0.0  "
      ]
     },
     "execution_count": 235,
     "metadata": {},
     "output_type": "execute_result"
    }
   ],
   "source": [
    "filtered_df_btc.head()"
   ]
  },
  {
   "cell_type": "code",
   "execution_count": 236,
   "metadata": {},
   "outputs": [
    {
     "data": {
      "text/html": [
       "<div>\n",
       "<style scoped>\n",
       "    .dataframe tbody tr th:only-of-type {\n",
       "        vertical-align: middle;\n",
       "    }\n",
       "\n",
       "    .dataframe tbody tr th {\n",
       "        vertical-align: top;\n",
       "    }\n",
       "\n",
       "    .dataframe thead th {\n",
       "        text-align: right;\n",
       "    }\n",
       "</style>\n",
       "<table border=\"1\" class=\"dataframe\">\n",
       "  <thead>\n",
       "    <tr style=\"text-align: right;\">\n",
       "      <th></th>\n",
       "      <th>Gmt time</th>\n",
       "      <th>Open</th>\n",
       "      <th>High</th>\n",
       "      <th>Low</th>\n",
       "      <th>Close</th>\n",
       "      <th>Volume</th>\n",
       "    </tr>\n",
       "  </thead>\n",
       "  <tbody>\n",
       "    <tr>\n",
       "      <th>3956657</th>\n",
       "      <td>2025-01-01 23:55:00</td>\n",
       "      <td>94361</td>\n",
       "      <td>94365</td>\n",
       "      <td>94351</td>\n",
       "      <td>94363</td>\n",
       "      <td>0.0002</td>\n",
       "    </tr>\n",
       "    <tr>\n",
       "      <th>3956658</th>\n",
       "      <td>2025-01-01 23:56:00</td>\n",
       "      <td>94365</td>\n",
       "      <td>94402</td>\n",
       "      <td>94363</td>\n",
       "      <td>94402</td>\n",
       "      <td>0.0001</td>\n",
       "    </tr>\n",
       "    <tr>\n",
       "      <th>3956659</th>\n",
       "      <td>2025-01-01 23:57:00</td>\n",
       "      <td>94402</td>\n",
       "      <td>94426</td>\n",
       "      <td>94402</td>\n",
       "      <td>94417</td>\n",
       "      <td>0.0002</td>\n",
       "    </tr>\n",
       "    <tr>\n",
       "      <th>3956660</th>\n",
       "      <td>2025-01-01 23:58:00</td>\n",
       "      <td>94412</td>\n",
       "      <td>94412</td>\n",
       "      <td>94382</td>\n",
       "      <td>94382</td>\n",
       "      <td>0.0002</td>\n",
       "    </tr>\n",
       "    <tr>\n",
       "      <th>3956661</th>\n",
       "      <td>2025-01-01 23:59:00</td>\n",
       "      <td>94379</td>\n",
       "      <td>94407</td>\n",
       "      <td>94344</td>\n",
       "      <td>94350</td>\n",
       "      <td>0.0003</td>\n",
       "    </tr>\n",
       "  </tbody>\n",
       "</table>\n",
       "</div>"
      ],
      "text/plain": [
       "                   Gmt time   Open   High    Low  Close  Volume\n",
       "3956657 2025-01-01 23:55:00  94361  94365  94351  94363  0.0002\n",
       "3956658 2025-01-01 23:56:00  94365  94402  94363  94402  0.0001\n",
       "3956659 2025-01-01 23:57:00  94402  94426  94402  94417  0.0002\n",
       "3956660 2025-01-01 23:58:00  94412  94412  94382  94382  0.0002\n",
       "3956661 2025-01-01 23:59:00  94379  94407  94344  94350  0.0003"
      ]
     },
     "execution_count": 236,
     "metadata": {},
     "output_type": "execute_result"
    }
   ],
   "source": [
    "filtered_df_cfd.tail()"
   ]
  },
  {
   "cell_type": "code",
   "execution_count": 237,
   "metadata": {},
   "outputs": [
    {
     "data": {
      "text/html": [
       "<div>\n",
       "<style scoped>\n",
       "    .dataframe tbody tr th:only-of-type {\n",
       "        vertical-align: middle;\n",
       "    }\n",
       "\n",
       "    .dataframe tbody tr th {\n",
       "        vertical-align: top;\n",
       "    }\n",
       "\n",
       "    .dataframe thead th {\n",
       "        text-align: right;\n",
       "    }\n",
       "</style>\n",
       "<table border=\"1\" class=\"dataframe\">\n",
       "  <thead>\n",
       "    <tr style=\"text-align: right;\">\n",
       "      <th></th>\n",
       "      <th>Open time</th>\n",
       "      <th>Open</th>\n",
       "      <th>High</th>\n",
       "      <th>Low</th>\n",
       "      <th>Close</th>\n",
       "      <th>Volume</th>\n",
       "      <th>Close time</th>\n",
       "      <th>Quote asset volume</th>\n",
       "      <th>Number of trades</th>\n",
       "      <th>Taker buy base asset volume</th>\n",
       "      <th>Taker buy quote asset volume</th>\n",
       "      <th>Ignore</th>\n",
       "    </tr>\n",
       "  </thead>\n",
       "  <tbody>\n",
       "    <tr>\n",
       "      <th>3871923</th>\n",
       "      <td>2025-01-01 23:55:00</td>\n",
       "      <td>94601.28</td>\n",
       "      <td>94609.47</td>\n",
       "      <td>94596.82</td>\n",
       "      <td>94609.47</td>\n",
       "      <td>1.94623</td>\n",
       "      <td>2025-01-01 23:55:59.999</td>\n",
       "      <td>184122.707427</td>\n",
       "      <td>518.0</td>\n",
       "      <td>1.27625</td>\n",
       "      <td>120738.708672</td>\n",
       "      <td>0.0</td>\n",
       "    </tr>\n",
       "    <tr>\n",
       "      <th>3871924</th>\n",
       "      <td>2025-01-01 23:56:00</td>\n",
       "      <td>94609.47</td>\n",
       "      <td>94643.26</td>\n",
       "      <td>94609.46</td>\n",
       "      <td>94643.26</td>\n",
       "      <td>4.44622</td>\n",
       "      <td>2025-01-01 23:56:59.999</td>\n",
       "      <td>420743.532628</td>\n",
       "      <td>622.0</td>\n",
       "      <td>4.14952</td>\n",
       "      <td>392669.309007</td>\n",
       "      <td>0.0</td>\n",
       "    </tr>\n",
       "    <tr>\n",
       "      <th>3871925</th>\n",
       "      <td>2025-01-01 23:57:00</td>\n",
       "      <td>94643.25</td>\n",
       "      <td>94665.22</td>\n",
       "      <td>94642.43</td>\n",
       "      <td>94642.43</td>\n",
       "      <td>4.90859</td>\n",
       "      <td>2025-01-01 23:57:59.999</td>\n",
       "      <td>464636.574822</td>\n",
       "      <td>1624.0</td>\n",
       "      <td>1.38741</td>\n",
       "      <td>131321.559863</td>\n",
       "      <td>0.0</td>\n",
       "    </tr>\n",
       "    <tr>\n",
       "      <th>3871926</th>\n",
       "      <td>2025-01-01 23:58:00</td>\n",
       "      <td>94642.43</td>\n",
       "      <td>94642.44</td>\n",
       "      <td>94605.51</td>\n",
       "      <td>94605.51</td>\n",
       "      <td>8.29700</td>\n",
       "      <td>2025-01-01 23:58:59.999</td>\n",
       "      <td>785162.831748</td>\n",
       "      <td>1254.0</td>\n",
       "      <td>0.98798</td>\n",
       "      <td>93492.584192</td>\n",
       "      <td>0.0</td>\n",
       "    </tr>\n",
       "    <tr>\n",
       "      <th>3871927</th>\n",
       "      <td>2025-01-01 23:59:00</td>\n",
       "      <td>94605.52</td>\n",
       "      <td>94605.52</td>\n",
       "      <td>94591.21</td>\n",
       "      <td>94591.79</td>\n",
       "      <td>9.05069</td>\n",
       "      <td>2025-01-01 23:59:59.999</td>\n",
       "      <td>856181.137371</td>\n",
       "      <td>679.0</td>\n",
       "      <td>5.63995</td>\n",
       "      <td>533522.703301</td>\n",
       "      <td>0.0</td>\n",
       "    </tr>\n",
       "  </tbody>\n",
       "</table>\n",
       "</div>"
      ],
      "text/plain": [
       "                  Open time      Open      High       Low     Close   Volume  \\\n",
       "3871923 2025-01-01 23:55:00  94601.28  94609.47  94596.82  94609.47  1.94623   \n",
       "3871924 2025-01-01 23:56:00  94609.47  94643.26  94609.46  94643.26  4.44622   \n",
       "3871925 2025-01-01 23:57:00  94643.25  94665.22  94642.43  94642.43  4.90859   \n",
       "3871926 2025-01-01 23:58:00  94642.43  94642.44  94605.51  94605.51  8.29700   \n",
       "3871927 2025-01-01 23:59:00  94605.52  94605.52  94591.21  94591.79  9.05069   \n",
       "\n",
       "                      Close time  Quote asset volume  Number of trades  \\\n",
       "3871923  2025-01-01 23:55:59.999       184122.707427             518.0   \n",
       "3871924  2025-01-01 23:56:59.999       420743.532628             622.0   \n",
       "3871925  2025-01-01 23:57:59.999       464636.574822            1624.0   \n",
       "3871926  2025-01-01 23:58:59.999       785162.831748            1254.0   \n",
       "3871927  2025-01-01 23:59:59.999       856181.137371             679.0   \n",
       "\n",
       "         Taker buy base asset volume  Taker buy quote asset volume  Ignore  \n",
       "3871923                      1.27625                 120738.708672     0.0  \n",
       "3871924                      4.14952                 392669.309007     0.0  \n",
       "3871925                      1.38741                 131321.559863     0.0  \n",
       "3871926                      0.98798                  93492.584192     0.0  \n",
       "3871927                      5.63995                 533522.703301     0.0  "
      ]
     },
     "execution_count": 237,
     "metadata": {},
     "output_type": "execute_result"
    }
   ],
   "source": [
    "filtered_df_btc.tail()"
   ]
  },
  {
   "cell_type": "code",
   "execution_count": 238,
   "metadata": {},
   "outputs": [
    {
     "data": {
      "text/plain": [
       "3844102"
      ]
     },
     "execution_count": 238,
     "metadata": {},
     "output_type": "execute_result"
    }
   ],
   "source": [
    "len(filtered_df_cfd)"
   ]
  },
  {
   "cell_type": "code",
   "execution_count": 239,
   "metadata": {},
   "outputs": [
    {
     "data": {
      "text/plain": [
       "3871928"
      ]
     },
     "execution_count": 239,
     "metadata": {},
     "output_type": "execute_result"
    }
   ],
   "source": [
    "len(filtered_df_btc)"
   ]
  },
  {
   "cell_type": "code",
   "execution_count": 240,
   "metadata": {},
   "outputs": [],
   "source": [
    "cfd = filtered_df_cfd.reset_index()\n",
    "btc = filtered_df_btc.reset_index()"
   ]
  },
  {
   "cell_type": "markdown",
   "metadata": {},
   "source": [
    "It's another problem , as online trading markets are open for a certain time, we need to account for that "
   ]
  },
  {
   "cell_type": "markdown",
   "metadata": {},
   "source": [
    "But there is something good, that is if we do the correlation matrix, we would get exactly 1, </br> therefore , we would need to the calls to buy and sell for cfd and do the opposite for btc"
   ]
  },
  {
   "cell_type": "markdown",
   "metadata": {},
   "source": [
    "Let's look at the graph before doing anything to the data"
   ]
  },
  {
   "cell_type": "code",
   "execution_count": 241,
   "metadata": {},
   "outputs": [],
   "source": [
    "import matplotlib.pyplot as plt"
   ]
  },
  {
   "cell_type": "code",
   "execution_count": 242,
   "metadata": {},
   "outputs": [
    {
     "data": {
      "text/plain": [
       "[<matplotlib.lines.Line2D at 0x159a5bb80>]"
      ]
     },
     "execution_count": 242,
     "metadata": {},
     "output_type": "execute_result"
    },
    {
     "data": {
      "image/png": "[encoded data removed]",
      "text/plain": [
       "<Figure size 640x480 with 1 Axes>"
      ]
     },
     "metadata": {},
     "output_type": "display_data"
    }
   ],
   "source": [
    "plt.plot(cfd['Gmt time'], cfd['Close'])"
   ]
  },
  {
   "cell_type": "code",
   "execution_count": 243,
   "metadata": {},
   "outputs": [
    {
     "data": {
      "text/plain": [
       "[<matplotlib.lines.Line2D at 0x6480f8760>]"
      ]
     },
     "execution_count": 243,
     "metadata": {},
     "output_type": "execute_result"
    },
    {
     "data": {
      "image/png": "[encoded data removed]",
      "text/plain": [
       "<Figure size 640x480 with 1 Axes>"
      ]
     },
     "metadata": {},
     "output_type": "display_data"
    }
   ],
   "source": [
    "plt.plot(btc['Open time'], btc['Close'])"
   ]
  },
  {
   "cell_type": "markdown",
   "metadata": {},
   "source": [
    "Now, on the same graph"
   ]
  },
  {
   "cell_type": "code",
   "execution_count": 244,
   "metadata": {},
   "outputs": [
    {
     "data": {
      "image/png": "[encoded data removed]",
      "text/plain": [
       "<Figure size 1000x600 with 1 Axes>"
      ]
     },
     "metadata": {},
     "output_type": "display_data"
    }
   ],
   "source": [
    "plt.figure(figsize=(10, 6))\n",
    "plt.plot(btc['Open time'], btc['Close'], color='red', label='Btc')\n",
    "\n",
    "plt.plot(cfd['Gmt time'], cfd['Close'], color='blue', alpha = 1 ,label='Cfd')\n",
    "\n",
    "\n",
    "plt.xlabel('Time')\n",
    "plt.ylabel('Value')\n",
    "plt.title('Comparison of cfd and btc Over Time')\n",
    "plt.legend()\n",
    "plt.show()"
   ]
  },
  {
   "cell_type": "markdown",
   "metadata": {},
   "source": [
    "Now, we will zoom im"
   ]
  },
  {
   "cell_type": "code",
   "execution_count": 245,
   "metadata": {},
   "outputs": [
    {
     "name": "stderr",
     "output_type": "stream",
     "text": [
      "/Users/anatoliifrolov/Desktop/machete/venv/lib/python3.10/site-packages/IPython/core/pylabtools.py:170: UserWarning: Creating legend with loc=\"best\" can be slow with large amounts of data.\n",
      "  fig.canvas.print_figure(bytes_io, **kw)\n"
     ]
    },
    {
     "data": {
      "image/png": "[encoded data removed]",
      "text/plain": [
       "<Figure size 1000x600 with 1 Axes>"
      ]
     },
     "metadata": {},
     "output_type": "display_data"
    }
   ],
   "source": [
    "plt.figure(figsize=(10, 6))\n",
    "plt.plot(btc['Open time'], btc['Close'], color='red', label='Btc')\n",
    "\n",
    "plt.plot(cfd['Gmt time'], cfd['Close'], color='blue', alpha = 1 ,label='Cfd')\n",
    "plt.xlim(pd.to_datetime('2017-08-17 04:01:00'), pd.to_datetime('2017-9-17 04:03:00'))\n",
    "plt.ylim(0, 5000)\n",
    "plt.xlabel('Time')\n",
    "plt.ylabel('Value')\n",
    "plt.title('Comparison of cfd and btc Over Time')\n",
    "plt.legend()\n",
    "plt.show()"
   ]
  },
  {
   "cell_type": "markdown",
   "metadata": {},
   "source": [
    "Hooray, the picture is setting in\n",
    "- It's better to long cfd and short btc"
   ]
  },
  {
   "cell_type": "markdown",
   "metadata": {},
   "source": [
    "Let's check other dates"
   ]
  },
  {
   "cell_type": "code",
   "execution_count": 246,
   "metadata": {},
   "outputs": [
    {
     "data": {
      "image/png": "[encoded data removed]",
      "text/plain": [
       "<Figure size 1000x600 with 1 Axes>"
      ]
     },
     "metadata": {},
     "output_type": "display_data"
    }
   ],
   "source": [
    "plt.figure(figsize=(10, 6))\n",
    "plt.plot(btc['Open time'], btc['Close'], color='red', label='Btc')\n",
    "\n",
    "plt.plot(cfd['Gmt time'], cfd['Close'], color='blue', alpha = 1 ,label='Cfd')\n",
    "plt.xlim(pd.to_datetime('2020-08-17 04:01:00'), pd.to_datetime('2020-9-17 04:01:00'))\n",
    "plt.ylim(10000, 13000)\n",
    "plt.xlabel('Time')\n",
    "plt.ylabel('Value')\n",
    "plt.title('Comparison of cfd and btc Over Time')\n",
    "plt.legend()\n",
    "plt.show()"
   ]
  },
  {
   "cell_type": "markdown",
   "metadata": {},
   "source": [
    "Now, the situation has changed, we can see the worsening!\n",
    "- the margin between two assets is closing in\n",
    "- now is better to long btc and short cfd"
   ]
  },
  {
   "cell_type": "code",
   "execution_count": 247,
   "metadata": {},
   "outputs": [
    {
     "data": {
      "image/png": "[encoded data removed]",
      "text/plain": [
       "<Figure size 1000x600 with 1 Axes>"
      ]
     },
     "metadata": {},
     "output_type": "display_data"
    }
   ],
   "source": [
    "plt.figure(figsize=(10, 6))\n",
    "plt.plot(btc['Open time'], btc['Close'], color='red', label='Btc')\n",
    "\n",
    "plt.plot(cfd['Gmt time'], cfd['Close'], color='blue', alpha = 1 ,label='Cfd')\n",
    "plt.xlim(pd.to_datetime('2024-08-17 04:01:00'), pd.to_datetime('2024-9-17 04:01:00'))\n",
    "plt.ylim(53000, 65000)\n",
    "plt.xlabel('Time')\n",
    "plt.ylabel('Value')\n",
    "plt.title('Comparison of cfd and btc Over Time')\n",
    "plt.legend()\n",
    "plt.show()"
   ]
  },
  {
   "cell_type": "markdown",
   "metadata": {},
   "source": [
    "We can see that the margin has almost closed between two assets"
   ]
  },
  {
   "cell_type": "markdown",
   "metadata": {},
   "source": [
    "## Tweaking the names"
   ]
  },
  {
   "cell_type": "code",
   "execution_count": 248,
   "metadata": {},
   "outputs": [
    {
     "data": {
      "text/plain": [
       "Index(['index', 'Gmt time', 'Open', 'High', 'Low', 'Close', 'Volume'], dtype='object')"
      ]
     },
     "execution_count": 248,
     "metadata": {},
     "output_type": "execute_result"
    }
   ],
   "source": [
    "cfd.columns"
   ]
  },
  {
   "cell_type": "code",
   "execution_count": 249,
   "metadata": {},
   "outputs": [],
   "source": [
    "cfd.columns = ['cfd_' + col for col in cfd.columns]\n"
   ]
  },
  {
   "cell_type": "code",
   "execution_count": 250,
   "metadata": {},
   "outputs": [
    {
     "data": {
      "text/plain": [
       "Index(['cfd_index', 'cfd_Gmt time', 'cfd_Open', 'cfd_High', 'cfd_Low',\n",
       "       'cfd_Close', 'cfd_Volume'],\n",
       "      dtype='object')"
      ]
     },
     "execution_count": 250,
     "metadata": {},
     "output_type": "execute_result"
    }
   ],
   "source": [
    "cfd.columns"
   ]
  },
  {
   "cell_type": "code",
   "execution_count": 251,
   "metadata": {},
   "outputs": [
    {
     "data": {
      "text/plain": [
       "Index(['index', 'Open time', 'Open', 'High', 'Low', 'Close', 'Volume',\n",
       "       'Close time', 'Quote asset volume', 'Number of trades',\n",
       "       'Taker buy base asset volume', 'Taker buy quote asset volume',\n",
       "       'Ignore'],\n",
       "      dtype='object')"
      ]
     },
     "execution_count": 251,
     "metadata": {},
     "output_type": "execute_result"
    }
   ],
   "source": [
    "btc.columns"
   ]
  },
  {
   "cell_type": "code",
   "execution_count": 252,
   "metadata": {},
   "outputs": [],
   "source": [
    "btc.columns = ['btc' + col for col in btc.columns]"
   ]
  },
  {
   "cell_type": "code",
   "execution_count": 253,
   "metadata": {},
   "outputs": [
    {
     "data": {
      "text/plain": [
       "Index(['btcindex', 'btcOpen time', 'btcOpen', 'btcHigh', 'btcLow', 'btcClose',\n",
       "       'btcVolume', 'btcClose time', 'btcQuote asset volume',\n",
       "       'btcNumber of trades', 'btcTaker buy base asset volume',\n",
       "       'btcTaker buy quote asset volume', 'btcIgnore'],\n",
       "      dtype='object')"
      ]
     },
     "execution_count": 253,
     "metadata": {},
     "output_type": "execute_result"
    }
   ],
   "source": [
    "btc.columns"
   ]
  },
  {
   "cell_type": "markdown",
   "metadata": {},
   "source": [
    "# I need to adress the change in the dominating strategy "
   ]
  },
  {
   "cell_type": "markdown",
   "metadata": {},
   "source": [
    "It's super non -obvious to me and i won't lie, i can onlythink of one thing: volume ? let's check it"
   ]
  },
  {
   "cell_type": "code",
   "execution_count": 254,
   "metadata": {},
   "outputs": [
    {
     "data": {
      "text/plain": [
       "np.float64(1.068263344757297)"
      ]
     },
     "execution_count": 254,
     "metadata": {},
     "output_type": "execute_result"
    }
   ],
   "source": [
    "#pd.to_datetime('2017-08-17 04:01:00'), pd.to_datetime('2017-9-17 04:03:00')\n",
    "filtered_df = cfd[(cfd['cfd_Gmt time'] >= '2017-08-17 04:01:00') & (cfd['cfd_Gmt time'] <= '2017-9-17 04:03:00')]\n",
    "filtered_df['cfd_Volume'].mean()"
   ]
  },
  {
   "cell_type": "code",
   "execution_count": 255,
   "metadata": {},
   "outputs": [
    {
     "data": {
      "text/plain": [
       "np.float64(0.5908253749547757)"
      ]
     },
     "execution_count": 255,
     "metadata": {},
     "output_type": "execute_result"
    }
   ],
   "source": [
    "filtered_df = btc[(btc['btcOpen time'] >= '2017-08-17 04:01:00') & (btc['btcOpen time'] <= '2017-9-17 04:03:00')]\n",
    "filtered_df['btcVolume'].mean()"
   ]
  },
  {
   "cell_type": "markdown",
   "metadata": {},
   "source": [
    "volume won't tell us a thing, that's sad, because fees are more in cfd as i remember"
   ]
  },
  {
   "cell_type": "markdown",
   "metadata": {},
   "source": [
    "Let's exclude rows that are not-needed(not that they are not needed, i just won't perform any k-fold with trees because there is no need , my strategy is not straight-forward,might do it later if requirements are not met)"
   ]
  },
  {
   "cell_type": "code",
   "execution_count": 256,
   "metadata": {},
   "outputs": [],
   "source": [
    "# btc = btc[btc['btcOpen time'].isin(cfd['cfd_Gmt time'])]\n"
   ]
  },
  {
   "cell_type": "code",
   "execution_count": 257,
   "metadata": {},
   "outputs": [
    {
     "data": {
      "text/plain": [
       "(3871928, 3844102)"
      ]
     },
     "execution_count": 257,
     "metadata": {},
     "output_type": "execute_result"
    }
   ],
   "source": [
    "len(btc),len(cfd)"
   ]
  },
  {
   "cell_type": "code",
   "execution_count": 258,
   "metadata": {},
   "outputs": [
    {
     "data": {
      "text/html": [
       "<div>\n",
       "<style scoped>\n",
       "    .dataframe tbody tr th:only-of-type {\n",
       "        vertical-align: middle;\n",
       "    }\n",
       "\n",
       "    .dataframe tbody tr th {\n",
       "        vertical-align: top;\n",
       "    }\n",
       "\n",
       "    .dataframe thead th {\n",
       "        text-align: right;\n",
       "    }\n",
       "</style>\n",
       "<table border=\"1\" class=\"dataframe\">\n",
       "  <thead>\n",
       "    <tr style=\"text-align: right;\">\n",
       "      <th></th>\n",
       "      <th>btcindex</th>\n",
       "      <th>btcOpen time</th>\n",
       "      <th>btcOpen</th>\n",
       "      <th>btcHigh</th>\n",
       "      <th>btcLow</th>\n",
       "      <th>btcClose</th>\n",
       "      <th>btcVolume</th>\n",
       "      <th>btcClose time</th>\n",
       "      <th>btcQuote asset volume</th>\n",
       "      <th>btcNumber of trades</th>\n",
       "      <th>btcTaker buy base asset volume</th>\n",
       "      <th>btcTaker buy quote asset volume</th>\n",
       "      <th>btcIgnore</th>\n",
       "    </tr>\n",
       "  </thead>\n",
       "  <tbody>\n",
       "    <tr>\n",
       "      <th>0</th>\n",
       "      <td>0</td>\n",
       "      <td>2017-08-17 04:00:00</td>\n",
       "      <td>4261.48</td>\n",
       "      <td>4261.48</td>\n",
       "      <td>4261.48</td>\n",
       "      <td>4261.48</td>\n",
       "      <td>1.775183</td>\n",
       "      <td>2017-08-17 04:00:59.999</td>\n",
       "      <td>7564.906851</td>\n",
       "      <td>3.0</td>\n",
       "      <td>0.075183</td>\n",
       "      <td>320.390851</td>\n",
       "      <td>0.0</td>\n",
       "    </tr>\n",
       "    <tr>\n",
       "      <th>1</th>\n",
       "      <td>1</td>\n",
       "      <td>2017-08-17 04:01:00</td>\n",
       "      <td>4261.48</td>\n",
       "      <td>4261.48</td>\n",
       "      <td>4261.48</td>\n",
       "      <td>4261.48</td>\n",
       "      <td>0.000000</td>\n",
       "      <td>2017-08-17 04:01:59.999</td>\n",
       "      <td>0.000000</td>\n",
       "      <td>0.0</td>\n",
       "      <td>0.000000</td>\n",
       "      <td>0.000000</td>\n",
       "      <td>0.0</td>\n",
       "    </tr>\n",
       "    <tr>\n",
       "      <th>2</th>\n",
       "      <td>2</td>\n",
       "      <td>2017-08-17 04:02:00</td>\n",
       "      <td>4280.56</td>\n",
       "      <td>4280.56</td>\n",
       "      <td>4280.56</td>\n",
       "      <td>4280.56</td>\n",
       "      <td>0.261074</td>\n",
       "      <td>2017-08-17 04:02:59.999</td>\n",
       "      <td>1117.542921</td>\n",
       "      <td>2.0</td>\n",
       "      <td>0.261074</td>\n",
       "      <td>1117.542921</td>\n",
       "      <td>0.0</td>\n",
       "    </tr>\n",
       "    <tr>\n",
       "      <th>3</th>\n",
       "      <td>3</td>\n",
       "      <td>2017-08-17 04:03:00</td>\n",
       "      <td>4261.48</td>\n",
       "      <td>4261.48</td>\n",
       "      <td>4261.48</td>\n",
       "      <td>4261.48</td>\n",
       "      <td>0.012008</td>\n",
       "      <td>2017-08-17 04:03:59.999</td>\n",
       "      <td>51.171852</td>\n",
       "      <td>3.0</td>\n",
       "      <td>0.012008</td>\n",
       "      <td>51.171852</td>\n",
       "      <td>0.0</td>\n",
       "    </tr>\n",
       "    <tr>\n",
       "      <th>4</th>\n",
       "      <td>4</td>\n",
       "      <td>2017-08-17 04:04:00</td>\n",
       "      <td>4261.48</td>\n",
       "      <td>4261.48</td>\n",
       "      <td>4261.48</td>\n",
       "      <td>4261.48</td>\n",
       "      <td>0.140796</td>\n",
       "      <td>2017-08-17 04:04:59.999</td>\n",
       "      <td>599.999338</td>\n",
       "      <td>1.0</td>\n",
       "      <td>0.140796</td>\n",
       "      <td>599.999338</td>\n",
       "      <td>0.0</td>\n",
       "    </tr>\n",
       "  </tbody>\n",
       "</table>\n",
       "</div>"
      ],
      "text/plain": [
       "   btcindex        btcOpen time  btcOpen  btcHigh   btcLow  btcClose  \\\n",
       "0         0 2017-08-17 04:00:00  4261.48  4261.48  4261.48   4261.48   \n",
       "1         1 2017-08-17 04:01:00  4261.48  4261.48  4261.48   4261.48   \n",
       "2         2 2017-08-17 04:02:00  4280.56  4280.56  4280.56   4280.56   \n",
       "3         3 2017-08-17 04:03:00  4261.48  4261.48  4261.48   4261.48   \n",
       "4         4 2017-08-17 04:04:00  4261.48  4261.48  4261.48   4261.48   \n",
       "\n",
       "   btcVolume            btcClose time  btcQuote asset volume  \\\n",
       "0   1.775183  2017-08-17 04:00:59.999            7564.906851   \n",
       "1   0.000000  2017-08-17 04:01:59.999               0.000000   \n",
       "2   0.261074  2017-08-17 04:02:59.999            1117.542921   \n",
       "3   0.012008  2017-08-17 04:03:59.999              51.171852   \n",
       "4   0.140796  2017-08-17 04:04:59.999             599.999338   \n",
       "\n",
       "   btcNumber of trades  btcTaker buy base asset volume  \\\n",
       "0                  3.0                        0.075183   \n",
       "1                  0.0                        0.000000   \n",
       "2                  2.0                        0.261074   \n",
       "3                  3.0                        0.012008   \n",
       "4                  1.0                        0.140796   \n",
       "\n",
       "   btcTaker buy quote asset volume  btcIgnore  \n",
       "0                       320.390851        0.0  \n",
       "1                         0.000000        0.0  \n",
       "2                      1117.542921        0.0  \n",
       "3                        51.171852        0.0  \n",
       "4                       599.999338        0.0  "
      ]
     },
     "execution_count": 258,
     "metadata": {},
     "output_type": "execute_result"
    }
   ],
   "source": [
    "btc.head()"
   ]
  },
  {
   "cell_type": "code",
   "execution_count": 259,
   "metadata": {},
   "outputs": [
    {
     "data": {
      "text/html": [
       "<div>\n",
       "<style scoped>\n",
       "    .dataframe tbody tr th:only-of-type {\n",
       "        vertical-align: middle;\n",
       "    }\n",
       "\n",
       "    .dataframe tbody tr th {\n",
       "        vertical-align: top;\n",
       "    }\n",
       "\n",
       "    .dataframe thead th {\n",
       "        text-align: right;\n",
       "    }\n",
       "</style>\n",
       "<table border=\"1\" class=\"dataframe\">\n",
       "  <thead>\n",
       "    <tr style=\"text-align: right;\">\n",
       "      <th></th>\n",
       "      <th>cfd_index</th>\n",
       "      <th>cfd_Gmt time</th>\n",
       "      <th>cfd_Open</th>\n",
       "      <th>cfd_High</th>\n",
       "      <th>cfd_Low</th>\n",
       "      <th>cfd_Close</th>\n",
       "      <th>cfd_Volume</th>\n",
       "    </tr>\n",
       "  </thead>\n",
       "  <tbody>\n",
       "    <tr>\n",
       "      <th>0</th>\n",
       "      <td>112560</td>\n",
       "      <td>2017-08-17 04:00:00</td>\n",
       "      <td>4280</td>\n",
       "      <td>4287</td>\n",
       "      <td>4280</td>\n",
       "      <td>4280</td>\n",
       "      <td>0.3669</td>\n",
       "    </tr>\n",
       "    <tr>\n",
       "      <th>1</th>\n",
       "      <td>112561</td>\n",
       "      <td>2017-08-17 04:01:00</td>\n",
       "      <td>4280</td>\n",
       "      <td>4287</td>\n",
       "      <td>4280</td>\n",
       "      <td>4280</td>\n",
       "      <td>0.4473</td>\n",
       "    </tr>\n",
       "    <tr>\n",
       "      <th>2</th>\n",
       "      <td>112562</td>\n",
       "      <td>2017-08-17 04:02:00</td>\n",
       "      <td>4280</td>\n",
       "      <td>4280</td>\n",
       "      <td>4270</td>\n",
       "      <td>4271</td>\n",
       "      <td>1.5517</td>\n",
       "    </tr>\n",
       "    <tr>\n",
       "      <th>3</th>\n",
       "      <td>112563</td>\n",
       "      <td>2017-08-17 04:03:00</td>\n",
       "      <td>4271</td>\n",
       "      <td>4271</td>\n",
       "      <td>4270</td>\n",
       "      <td>4271</td>\n",
       "      <td>0.5356</td>\n",
       "    </tr>\n",
       "    <tr>\n",
       "      <th>4</th>\n",
       "      <td>112564</td>\n",
       "      <td>2017-08-17 04:04:00</td>\n",
       "      <td>4271</td>\n",
       "      <td>4280</td>\n",
       "      <td>4271</td>\n",
       "      <td>4273</td>\n",
       "      <td>3.5479</td>\n",
       "    </tr>\n",
       "  </tbody>\n",
       "</table>\n",
       "</div>"
      ],
      "text/plain": [
       "   cfd_index        cfd_Gmt time  cfd_Open  cfd_High  cfd_Low  cfd_Close  \\\n",
       "0     112560 2017-08-17 04:00:00      4280      4287     4280       4280   \n",
       "1     112561 2017-08-17 04:01:00      4280      4287     4280       4280   \n",
       "2     112562 2017-08-17 04:02:00      4280      4280     4270       4271   \n",
       "3     112563 2017-08-17 04:03:00      4271      4271     4270       4271   \n",
       "4     112564 2017-08-17 04:04:00      4271      4280     4271       4273   \n",
       "\n",
       "   cfd_Volume  \n",
       "0      0.3669  \n",
       "1      0.4473  \n",
       "2      1.5517  \n",
       "3      0.5356  \n",
       "4      3.5479  "
      ]
     },
     "execution_count": 259,
     "metadata": {},
     "output_type": "execute_result"
    }
   ],
   "source": [
    "cfd.head()"
   ]
  },
  {
   "cell_type": "code",
   "execution_count": 260,
   "metadata": {},
   "outputs": [
    {
     "data": {
      "text/html": [
       "<div>\n",
       "<style scoped>\n",
       "    .dataframe tbody tr th:only-of-type {\n",
       "        vertical-align: middle;\n",
       "    }\n",
       "\n",
       "    .dataframe tbody tr th {\n",
       "        vertical-align: top;\n",
       "    }\n",
       "\n",
       "    .dataframe thead th {\n",
       "        text-align: right;\n",
       "    }\n",
       "</style>\n",
       "<table border=\"1\" class=\"dataframe\">\n",
       "  <thead>\n",
       "    <tr style=\"text-align: right;\">\n",
       "      <th></th>\n",
       "      <th>btcindex</th>\n",
       "      <th>btcOpen time</th>\n",
       "      <th>btcOpen</th>\n",
       "      <th>btcHigh</th>\n",
       "      <th>btcLow</th>\n",
       "      <th>btcClose</th>\n",
       "      <th>btcVolume</th>\n",
       "      <th>btcClose time</th>\n",
       "      <th>btcQuote asset volume</th>\n",
       "      <th>btcNumber of trades</th>\n",
       "      <th>btcTaker buy base asset volume</th>\n",
       "      <th>btcTaker buy quote asset volume</th>\n",
       "      <th>btcIgnore</th>\n",
       "    </tr>\n",
       "  </thead>\n",
       "  <tbody>\n",
       "    <tr>\n",
       "      <th>563229</th>\n",
       "      <td>563229</td>\n",
       "      <td>2018-09-15 00:00:00</td>\n",
       "      <td>6476.63</td>\n",
       "      <td>6482.63</td>\n",
       "      <td>6475.00</td>\n",
       "      <td>6475.00</td>\n",
       "      <td>18.454718</td>\n",
       "      <td>2018-09-15 00:00:59.999</td>\n",
       "      <td>119541.983351</td>\n",
       "      <td>185.0</td>\n",
       "      <td>7.112871</td>\n",
       "      <td>46086.369075</td>\n",
       "      <td>0.0</td>\n",
       "    </tr>\n",
       "    <tr>\n",
       "      <th>563230</th>\n",
       "      <td>563230</td>\n",
       "      <td>2018-09-15 00:01:00</td>\n",
       "      <td>6475.12</td>\n",
       "      <td>6480.87</td>\n",
       "      <td>6473.30</td>\n",
       "      <td>6480.86</td>\n",
       "      <td>26.761588</td>\n",
       "      <td>2018-09-15 00:01:59.999</td>\n",
       "      <td>173275.408195</td>\n",
       "      <td>153.0</td>\n",
       "      <td>14.845240</td>\n",
       "      <td>96123.077713</td>\n",
       "      <td>0.0</td>\n",
       "    </tr>\n",
       "    <tr>\n",
       "      <th>563231</th>\n",
       "      <td>563231</td>\n",
       "      <td>2018-09-15 00:02:00</td>\n",
       "      <td>6480.86</td>\n",
       "      <td>6488.88</td>\n",
       "      <td>6477.30</td>\n",
       "      <td>6484.00</td>\n",
       "      <td>7.756163</td>\n",
       "      <td>2018-09-15 00:02:59.999</td>\n",
       "      <td>50276.931527</td>\n",
       "      <td>90.0</td>\n",
       "      <td>4.950497</td>\n",
       "      <td>32094.153403</td>\n",
       "      <td>0.0</td>\n",
       "    </tr>\n",
       "    <tr>\n",
       "      <th>563232</th>\n",
       "      <td>563232</td>\n",
       "      <td>2018-09-15 00:03:00</td>\n",
       "      <td>6484.03</td>\n",
       "      <td>6491.98</td>\n",
       "      <td>6484.03</td>\n",
       "      <td>6486.27</td>\n",
       "      <td>10.519554</td>\n",
       "      <td>2018-09-15 00:03:59.999</td>\n",
       "      <td>68246.347852</td>\n",
       "      <td>90.0</td>\n",
       "      <td>4.371192</td>\n",
       "      <td>28358.426695</td>\n",
       "      <td>0.0</td>\n",
       "    </tr>\n",
       "    <tr>\n",
       "      <th>563233</th>\n",
       "      <td>563233</td>\n",
       "      <td>2018-09-15 00:04:00</td>\n",
       "      <td>6489.99</td>\n",
       "      <td>6492.00</td>\n",
       "      <td>6486.27</td>\n",
       "      <td>6488.82</td>\n",
       "      <td>21.215270</td>\n",
       "      <td>2018-09-15 00:04:59.999</td>\n",
       "      <td>137667.805224</td>\n",
       "      <td>68.0</td>\n",
       "      <td>9.178617</td>\n",
       "      <td>59576.720196</td>\n",
       "      <td>0.0</td>\n",
       "    </tr>\n",
       "    <tr>\n",
       "      <th>...</th>\n",
       "      <td>...</td>\n",
       "      <td>...</td>\n",
       "      <td>...</td>\n",
       "      <td>...</td>\n",
       "      <td>...</td>\n",
       "      <td>...</td>\n",
       "      <td>...</td>\n",
       "      <td>...</td>\n",
       "      <td>...</td>\n",
       "      <td>...</td>\n",
       "      <td>...</td>\n",
       "      <td>...</td>\n",
       "      <td>...</td>\n",
       "    </tr>\n",
       "    <tr>\n",
       "      <th>1241950</th>\n",
       "      <td>1241950</td>\n",
       "      <td>2019-12-31 23:55:00</td>\n",
       "      <td>7204.25</td>\n",
       "      <td>7206.29</td>\n",
       "      <td>7203.28</td>\n",
       "      <td>7205.90</td>\n",
       "      <td>5.358492</td>\n",
       "      <td>2019-12-31 23:55:59.999</td>\n",
       "      <td>38606.854134</td>\n",
       "      <td>106.0</td>\n",
       "      <td>3.015010</td>\n",
       "      <td>21722.902450</td>\n",
       "      <td>0.0</td>\n",
       "    </tr>\n",
       "    <tr>\n",
       "      <th>1241951</th>\n",
       "      <td>1241951</td>\n",
       "      <td>2019-12-31 23:56:00</td>\n",
       "      <td>7205.88</td>\n",
       "      <td>7205.90</td>\n",
       "      <td>7192.06</td>\n",
       "      <td>7194.08</td>\n",
       "      <td>50.279127</td>\n",
       "      <td>2019-12-31 23:56:59.999</td>\n",
       "      <td>361978.656589</td>\n",
       "      <td>317.0</td>\n",
       "      <td>3.188448</td>\n",
       "      <td>22963.751210</td>\n",
       "      <td>0.0</td>\n",
       "    </tr>\n",
       "    <tr>\n",
       "      <th>1241952</th>\n",
       "      <td>1241952</td>\n",
       "      <td>2019-12-31 23:57:00</td>\n",
       "      <td>7193.80</td>\n",
       "      <td>7196.04</td>\n",
       "      <td>7190.17</td>\n",
       "      <td>7190.17</td>\n",
       "      <td>11.425707</td>\n",
       "      <td>2019-12-31 23:57:59.999</td>\n",
       "      <td>82185.038824</td>\n",
       "      <td>149.0</td>\n",
       "      <td>4.154152</td>\n",
       "      <td>29881.805031</td>\n",
       "      <td>0.0</td>\n",
       "    </tr>\n",
       "    <tr>\n",
       "      <th>1241953</th>\n",
       "      <td>1241953</td>\n",
       "      <td>2019-12-31 23:58:00</td>\n",
       "      <td>7190.79</td>\n",
       "      <td>7196.07</td>\n",
       "      <td>7190.79</td>\n",
       "      <td>7195.87</td>\n",
       "      <td>4.488904</td>\n",
       "      <td>2019-12-31 23:58:59.999</td>\n",
       "      <td>32290.752109</td>\n",
       "      <td>137.0</td>\n",
       "      <td>2.621534</td>\n",
       "      <td>18858.415785</td>\n",
       "      <td>0.0</td>\n",
       "    </tr>\n",
       "    <tr>\n",
       "      <th>1241954</th>\n",
       "      <td>1241954</td>\n",
       "      <td>2019-12-31 23:59:00</td>\n",
       "      <td>7195.20</td>\n",
       "      <td>7196.42</td>\n",
       "      <td>7193.46</td>\n",
       "      <td>7195.23</td>\n",
       "      <td>4.486104</td>\n",
       "      <td>2019-12-31 23:59:59.999</td>\n",
       "      <td>32276.227675</td>\n",
       "      <td>109.0</td>\n",
       "      <td>2.129366</td>\n",
       "      <td>15320.685000</td>\n",
       "      <td>0.0</td>\n",
       "    </tr>\n",
       "  </tbody>\n",
       "</table>\n",
       "<p>39215 rows × 13 columns</p>\n",
       "</div>"
      ],
      "text/plain": [
       "         btcindex        btcOpen time  btcOpen  btcHigh   btcLow  btcClose  \\\n",
       "563229     563229 2018-09-15 00:00:00  6476.63  6482.63  6475.00   6475.00   \n",
       "563230     563230 2018-09-15 00:01:00  6475.12  6480.87  6473.30   6480.86   \n",
       "563231     563231 2018-09-15 00:02:00  6480.86  6488.88  6477.30   6484.00   \n",
       "563232     563232 2018-09-15 00:03:00  6484.03  6491.98  6484.03   6486.27   \n",
       "563233     563233 2018-09-15 00:04:00  6489.99  6492.00  6486.27   6488.82   \n",
       "...           ...                 ...      ...      ...      ...       ...   \n",
       "1241950   1241950 2019-12-31 23:55:00  7204.25  7206.29  7203.28   7205.90   \n",
       "1241951   1241951 2019-12-31 23:56:00  7205.88  7205.90  7192.06   7194.08   \n",
       "1241952   1241952 2019-12-31 23:57:00  7193.80  7196.04  7190.17   7190.17   \n",
       "1241953   1241953 2019-12-31 23:58:00  7190.79  7196.07  7190.79   7195.87   \n",
       "1241954   1241954 2019-12-31 23:59:00  7195.20  7196.42  7193.46   7195.23   \n",
       "\n",
       "         btcVolume            btcClose time  btcQuote asset volume  \\\n",
       "563229   18.454718  2018-09-15 00:00:59.999          119541.983351   \n",
       "563230   26.761588  2018-09-15 00:01:59.999          173275.408195   \n",
       "563231    7.756163  2018-09-15 00:02:59.999           50276.931527   \n",
       "563232   10.519554  2018-09-15 00:03:59.999           68246.347852   \n",
       "563233   21.215270  2018-09-15 00:04:59.999          137667.805224   \n",
       "...            ...                      ...                    ...   \n",
       "1241950   5.358492  2019-12-31 23:55:59.999           38606.854134   \n",
       "1241951  50.279127  2019-12-31 23:56:59.999          361978.656589   \n",
       "1241952  11.425707  2019-12-31 23:57:59.999           82185.038824   \n",
       "1241953   4.488904  2019-12-31 23:58:59.999           32290.752109   \n",
       "1241954   4.486104  2019-12-31 23:59:59.999           32276.227675   \n",
       "\n",
       "         btcNumber of trades  btcTaker buy base asset volume  \\\n",
       "563229                 185.0                        7.112871   \n",
       "563230                 153.0                       14.845240   \n",
       "563231                  90.0                        4.950497   \n",
       "563232                  90.0                        4.371192   \n",
       "563233                  68.0                        9.178617   \n",
       "...                      ...                             ...   \n",
       "1241950                106.0                        3.015010   \n",
       "1241951                317.0                        3.188448   \n",
       "1241952                149.0                        4.154152   \n",
       "1241953                137.0                        2.621534   \n",
       "1241954                109.0                        2.129366   \n",
       "\n",
       "         btcTaker buy quote asset volume  btcIgnore  \n",
       "563229                      46086.369075        0.0  \n",
       "563230                      96123.077713        0.0  \n",
       "563231                      32094.153403        0.0  \n",
       "563232                      28358.426695        0.0  \n",
       "563233                      59576.720196        0.0  \n",
       "...                                  ...        ...  \n",
       "1241950                     21722.902450        0.0  \n",
       "1241951                     22963.751210        0.0  \n",
       "1241952                     29881.805031        0.0  \n",
       "1241953                     18858.415785        0.0  \n",
       "1241954                     15320.685000        0.0  \n",
       "\n",
       "[39215 rows x 13 columns]"
      ]
     },
     "execution_count": 260,
     "metadata": {},
     "output_type": "execute_result"
    }
   ],
   "source": [
    "excluded_mask = ~btc['btcOpen time'].isin(cfd['cfd_Gmt time'])\n",
    "\n",
    "filtered_df_btc = btc[~excluded_mask]\n",
    "\n",
    "# Step 3: Get the excluded rows\n",
    "excluded_df = btc[excluded_mask]\n",
    "excluded_df"
   ]
  },
  {
   "cell_type": "markdown",
   "metadata": {},
   "source": [
    "All non-trading time"
   ]
  },
  {
   "cell_type": "code",
   "execution_count": 261,
   "metadata": {},
   "outputs": [
    {
     "data": {
      "text/plain": [
       "(3832713, 3844102)"
      ]
     },
     "execution_count": 261,
     "metadata": {},
     "output_type": "execute_result"
    }
   ],
   "source": [
    "len(filtered_df_btc) , len(cfd)"
   ]
  },
  {
   "cell_type": "markdown",
   "metadata": {},
   "source": [
    "Now, we will do the same for the btc, as it was too non-tradeable for some time\n"
   ]
  },
  {
   "cell_type": "code",
   "execution_count": 262,
   "metadata": {},
   "outputs": [
    {
     "data": {
      "text/html": [
       "<div>\n",
       "<style scoped>\n",
       "    .dataframe tbody tr th:only-of-type {\n",
       "        vertical-align: middle;\n",
       "    }\n",
       "\n",
       "    .dataframe tbody tr th {\n",
       "        vertical-align: top;\n",
       "    }\n",
       "\n",
       "    .dataframe thead th {\n",
       "        text-align: right;\n",
       "    }\n",
       "</style>\n",
       "<table border=\"1\" class=\"dataframe\">\n",
       "  <thead>\n",
       "    <tr style=\"text-align: right;\">\n",
       "      <th></th>\n",
       "      <th>cfd_index</th>\n",
       "      <th>cfd_Gmt time</th>\n",
       "      <th>cfd_Open</th>\n",
       "      <th>cfd_High</th>\n",
       "      <th>cfd_Low</th>\n",
       "      <th>cfd_Close</th>\n",
       "      <th>cfd_Volume</th>\n",
       "    </tr>\n",
       "  </thead>\n",
       "  <tbody>\n",
       "    <tr>\n",
       "      <th>29521</th>\n",
       "      <td>142081</td>\n",
       "      <td>2017-09-06 16:01:00</td>\n",
       "      <td>4673</td>\n",
       "      <td>4679</td>\n",
       "      <td>4652</td>\n",
       "      <td>4667</td>\n",
       "      <td>2.0682</td>\n",
       "    </tr>\n",
       "    <tr>\n",
       "      <th>29522</th>\n",
       "      <td>142082</td>\n",
       "      <td>2017-09-06 16:02:00</td>\n",
       "      <td>4667</td>\n",
       "      <td>4667</td>\n",
       "      <td>4646</td>\n",
       "      <td>4666</td>\n",
       "      <td>5.4285</td>\n",
       "    </tr>\n",
       "    <tr>\n",
       "      <th>29523</th>\n",
       "      <td>142083</td>\n",
       "      <td>2017-09-06 16:03:00</td>\n",
       "      <td>4666</td>\n",
       "      <td>4669</td>\n",
       "      <td>4665</td>\n",
       "      <td>4669</td>\n",
       "      <td>4.6243</td>\n",
       "    </tr>\n",
       "    <tr>\n",
       "      <th>29524</th>\n",
       "      <td>142084</td>\n",
       "      <td>2017-09-06 16:04:00</td>\n",
       "      <td>4665</td>\n",
       "      <td>4666</td>\n",
       "      <td>4664</td>\n",
       "      <td>4665</td>\n",
       "      <td>2.8204</td>\n",
       "    </tr>\n",
       "    <tr>\n",
       "      <th>29525</th>\n",
       "      <td>142085</td>\n",
       "      <td>2017-09-06 16:05:00</td>\n",
       "      <td>4665</td>\n",
       "      <td>4666</td>\n",
       "      <td>4644</td>\n",
       "      <td>4666</td>\n",
       "      <td>3.1348</td>\n",
       "    </tr>\n",
       "    <tr>\n",
       "      <th>...</th>\n",
       "      <td>...</td>\n",
       "      <td>...</td>\n",
       "      <td>...</td>\n",
       "      <td>...</td>\n",
       "      <td>...</td>\n",
       "      <td>...</td>\n",
       "      <td>...</td>\n",
       "    </tr>\n",
       "    <tr>\n",
       "      <th>2908937</th>\n",
       "      <td>3021497</td>\n",
       "      <td>2023-03-24 13:55:00</td>\n",
       "      <td>27912</td>\n",
       "      <td>27985</td>\n",
       "      <td>27912</td>\n",
       "      <td>27937</td>\n",
       "      <td>0.0018</td>\n",
       "    </tr>\n",
       "    <tr>\n",
       "      <th>2908938</th>\n",
       "      <td>3021498</td>\n",
       "      <td>2023-03-24 13:56:00</td>\n",
       "      <td>27937</td>\n",
       "      <td>27939</td>\n",
       "      <td>27901</td>\n",
       "      <td>27903</td>\n",
       "      <td>0.0004</td>\n",
       "    </tr>\n",
       "    <tr>\n",
       "      <th>2908939</th>\n",
       "      <td>3021499</td>\n",
       "      <td>2023-03-24 13:57:00</td>\n",
       "      <td>27903</td>\n",
       "      <td>27935</td>\n",
       "      <td>27884</td>\n",
       "      <td>27906</td>\n",
       "      <td>0.0016</td>\n",
       "    </tr>\n",
       "    <tr>\n",
       "      <th>2908940</th>\n",
       "      <td>3021500</td>\n",
       "      <td>2023-03-24 13:58:00</td>\n",
       "      <td>27906</td>\n",
       "      <td>27913</td>\n",
       "      <td>27897</td>\n",
       "      <td>27902</td>\n",
       "      <td>0.0005</td>\n",
       "    </tr>\n",
       "    <tr>\n",
       "      <th>2908941</th>\n",
       "      <td>3021501</td>\n",
       "      <td>2023-03-24 13:59:00</td>\n",
       "      <td>27902</td>\n",
       "      <td>27968</td>\n",
       "      <td>27894</td>\n",
       "      <td>27968</td>\n",
       "      <td>0.0010</td>\n",
       "    </tr>\n",
       "  </tbody>\n",
       "</table>\n",
       "<p>8509 rows × 7 columns</p>\n",
       "</div>"
      ],
      "text/plain": [
       "         cfd_index        cfd_Gmt time  cfd_Open  cfd_High  cfd_Low  \\\n",
       "29521       142081 2017-09-06 16:01:00      4673      4679     4652   \n",
       "29522       142082 2017-09-06 16:02:00      4667      4667     4646   \n",
       "29523       142083 2017-09-06 16:03:00      4666      4669     4665   \n",
       "29524       142084 2017-09-06 16:04:00      4665      4666     4664   \n",
       "29525       142085 2017-09-06 16:05:00      4665      4666     4644   \n",
       "...            ...                 ...       ...       ...      ...   \n",
       "2908937    3021497 2023-03-24 13:55:00     27912     27985    27912   \n",
       "2908938    3021498 2023-03-24 13:56:00     27937     27939    27901   \n",
       "2908939    3021499 2023-03-24 13:57:00     27903     27935    27884   \n",
       "2908940    3021500 2023-03-24 13:58:00     27906     27913    27897   \n",
       "2908941    3021501 2023-03-24 13:59:00     27902     27968    27894   \n",
       "\n",
       "         cfd_Close  cfd_Volume  \n",
       "29521         4667      2.0682  \n",
       "29522         4666      5.4285  \n",
       "29523         4669      4.6243  \n",
       "29524         4665      2.8204  \n",
       "29525         4666      3.1348  \n",
       "...            ...         ...  \n",
       "2908937      27937      0.0018  \n",
       "2908938      27903      0.0004  \n",
       "2908939      27906      0.0016  \n",
       "2908940      27902      0.0005  \n",
       "2908941      27968      0.0010  \n",
       "\n",
       "[8509 rows x 7 columns]"
      ]
     },
     "execution_count": 262,
     "metadata": {},
     "output_type": "execute_result"
    }
   ],
   "source": [
    "excluded_mask = ~cfd['cfd_Gmt time'].isin(btc['btcOpen time'])\n",
    "\n",
    "filtered_df_cfd = cfd[~excluded_mask]\n",
    "\n",
    "# Step 3: Get the excluded rows\n",
    "excluded_df = cfd[excluded_mask]\n",
    "excluded_df"
   ]
  },
  {
   "cell_type": "code",
   "execution_count": 263,
   "metadata": {},
   "outputs": [
    {
     "data": {
      "text/plain": [
       "(3832713, 3835593)"
      ]
     },
     "execution_count": 263,
     "metadata": {},
     "output_type": "execute_result"
    }
   ],
   "source": [
    "len(filtered_df_btc) , len(filtered_df_cfd) # still no the same, i will use the sacred left-join then"
   ]
  },
  {
   "cell_type": "code",
   "execution_count": 264,
   "metadata": {},
   "outputs": [],
   "source": [
    "lj = pd.merge(filtered_df_btc, filtered_df_cfd, left_on='btcOpen time', right_on='cfd_Gmt time', how='left')\n"
   ]
  },
  {
   "cell_type": "code",
   "execution_count": 265,
   "metadata": {},
   "outputs": [
    {
     "data": {
      "text/html": [
       "<div>\n",
       "<style scoped>\n",
       "    .dataframe tbody tr th:only-of-type {\n",
       "        vertical-align: middle;\n",
       "    }\n",
       "\n",
       "    .dataframe tbody tr th {\n",
       "        vertical-align: top;\n",
       "    }\n",
       "\n",
       "    .dataframe thead th {\n",
       "        text-align: right;\n",
       "    }\n",
       "</style>\n",
       "<table border=\"1\" class=\"dataframe\">\n",
       "  <thead>\n",
       "    <tr style=\"text-align: right;\">\n",
       "      <th></th>\n",
       "      <th>btcindex</th>\n",
       "      <th>btcOpen time</th>\n",
       "      <th>btcOpen</th>\n",
       "      <th>btcHigh</th>\n",
       "      <th>btcLow</th>\n",
       "      <th>btcClose</th>\n",
       "      <th>btcVolume</th>\n",
       "      <th>btcClose time</th>\n",
       "      <th>btcQuote asset volume</th>\n",
       "      <th>btcNumber of trades</th>\n",
       "      <th>btcTaker buy base asset volume</th>\n",
       "      <th>btcTaker buy quote asset volume</th>\n",
       "      <th>btcIgnore</th>\n",
       "      <th>cfd_index</th>\n",
       "      <th>cfd_Gmt time</th>\n",
       "      <th>cfd_Open</th>\n",
       "      <th>cfd_High</th>\n",
       "      <th>cfd_Low</th>\n",
       "      <th>cfd_Close</th>\n",
       "      <th>cfd_Volume</th>\n",
       "    </tr>\n",
       "  </thead>\n",
       "  <tbody>\n",
       "    <tr>\n",
       "      <th>0</th>\n",
       "      <td>0</td>\n",
       "      <td>2017-08-17 04:00:00</td>\n",
       "      <td>4261.48</td>\n",
       "      <td>4261.48</td>\n",
       "      <td>4261.48</td>\n",
       "      <td>4261.48</td>\n",
       "      <td>1.775183</td>\n",
       "      <td>2017-08-17 04:00:59.999</td>\n",
       "      <td>7564.906851</td>\n",
       "      <td>3.0</td>\n",
       "      <td>0.075183</td>\n",
       "      <td>320.390851</td>\n",
       "      <td>0.0</td>\n",
       "      <td>112560</td>\n",
       "      <td>2017-08-17 04:00:00</td>\n",
       "      <td>4280</td>\n",
       "      <td>4287</td>\n",
       "      <td>4280</td>\n",
       "      <td>4280</td>\n",
       "      <td>0.3669</td>\n",
       "    </tr>\n",
       "    <tr>\n",
       "      <th>1</th>\n",
       "      <td>1</td>\n",
       "      <td>2017-08-17 04:01:00</td>\n",
       "      <td>4261.48</td>\n",
       "      <td>4261.48</td>\n",
       "      <td>4261.48</td>\n",
       "      <td>4261.48</td>\n",
       "      <td>0.000000</td>\n",
       "      <td>2017-08-17 04:01:59.999</td>\n",
       "      <td>0.000000</td>\n",
       "      <td>0.0</td>\n",
       "      <td>0.000000</td>\n",
       "      <td>0.000000</td>\n",
       "      <td>0.0</td>\n",
       "      <td>112561</td>\n",
       "      <td>2017-08-17 04:01:00</td>\n",
       "      <td>4280</td>\n",
       "      <td>4287</td>\n",
       "      <td>4280</td>\n",
       "      <td>4280</td>\n",
       "      <td>0.4473</td>\n",
       "    </tr>\n",
       "    <tr>\n",
       "      <th>2</th>\n",
       "      <td>2</td>\n",
       "      <td>2017-08-17 04:02:00</td>\n",
       "      <td>4280.56</td>\n",
       "      <td>4280.56</td>\n",
       "      <td>4280.56</td>\n",
       "      <td>4280.56</td>\n",
       "      <td>0.261074</td>\n",
       "      <td>2017-08-17 04:02:59.999</td>\n",
       "      <td>1117.542921</td>\n",
       "      <td>2.0</td>\n",
       "      <td>0.261074</td>\n",
       "      <td>1117.542921</td>\n",
       "      <td>0.0</td>\n",
       "      <td>112562</td>\n",
       "      <td>2017-08-17 04:02:00</td>\n",
       "      <td>4280</td>\n",
       "      <td>4280</td>\n",
       "      <td>4270</td>\n",
       "      <td>4271</td>\n",
       "      <td>1.5517</td>\n",
       "    </tr>\n",
       "    <tr>\n",
       "      <th>3</th>\n",
       "      <td>3</td>\n",
       "      <td>2017-08-17 04:03:00</td>\n",
       "      <td>4261.48</td>\n",
       "      <td>4261.48</td>\n",
       "      <td>4261.48</td>\n",
       "      <td>4261.48</td>\n",
       "      <td>0.012008</td>\n",
       "      <td>2017-08-17 04:03:59.999</td>\n",
       "      <td>51.171852</td>\n",
       "      <td>3.0</td>\n",
       "      <td>0.012008</td>\n",
       "      <td>51.171852</td>\n",
       "      <td>0.0</td>\n",
       "      <td>112563</td>\n",
       "      <td>2017-08-17 04:03:00</td>\n",
       "      <td>4271</td>\n",
       "      <td>4271</td>\n",
       "      <td>4270</td>\n",
       "      <td>4271</td>\n",
       "      <td>0.5356</td>\n",
       "    </tr>\n",
       "    <tr>\n",
       "      <th>4</th>\n",
       "      <td>4</td>\n",
       "      <td>2017-08-17 04:04:00</td>\n",
       "      <td>4261.48</td>\n",
       "      <td>4261.48</td>\n",
       "      <td>4261.48</td>\n",
       "      <td>4261.48</td>\n",
       "      <td>0.140796</td>\n",
       "      <td>2017-08-17 04:04:59.999</td>\n",
       "      <td>599.999338</td>\n",
       "      <td>1.0</td>\n",
       "      <td>0.140796</td>\n",
       "      <td>599.999338</td>\n",
       "      <td>0.0</td>\n",
       "      <td>112564</td>\n",
       "      <td>2017-08-17 04:04:00</td>\n",
       "      <td>4271</td>\n",
       "      <td>4280</td>\n",
       "      <td>4271</td>\n",
       "      <td>4273</td>\n",
       "      <td>3.5479</td>\n",
       "    </tr>\n",
       "  </tbody>\n",
       "</table>\n",
       "</div>"
      ],
      "text/plain": [
       "   btcindex        btcOpen time  btcOpen  btcHigh   btcLow  btcClose  \\\n",
       "0         0 2017-08-17 04:00:00  4261.48  4261.48  4261.48   4261.48   \n",
       "1         1 2017-08-17 04:01:00  4261.48  4261.48  4261.48   4261.48   \n",
       "2         2 2017-08-17 04:02:00  4280.56  4280.56  4280.56   4280.56   \n",
       "3         3 2017-08-17 04:03:00  4261.48  4261.48  4261.48   4261.48   \n",
       "4         4 2017-08-17 04:04:00  4261.48  4261.48  4261.48   4261.48   \n",
       "\n",
       "   btcVolume            btcClose time  btcQuote asset volume  \\\n",
       "0   1.775183  2017-08-17 04:00:59.999            7564.906851   \n",
       "1   0.000000  2017-08-17 04:01:59.999               0.000000   \n",
       "2   0.261074  2017-08-17 04:02:59.999            1117.542921   \n",
       "3   0.012008  2017-08-17 04:03:59.999              51.171852   \n",
       "4   0.140796  2017-08-17 04:04:59.999             599.999338   \n",
       "\n",
       "   btcNumber of trades  btcTaker buy base asset volume  \\\n",
       "0                  3.0                        0.075183   \n",
       "1                  0.0                        0.000000   \n",
       "2                  2.0                        0.261074   \n",
       "3                  3.0                        0.012008   \n",
       "4                  1.0                        0.140796   \n",
       "\n",
       "   btcTaker buy quote asset volume  btcIgnore  cfd_index        cfd_Gmt time  \\\n",
       "0                       320.390851        0.0     112560 2017-08-17 04:00:00   \n",
       "1                         0.000000        0.0     112561 2017-08-17 04:01:00   \n",
       "2                      1117.542921        0.0     112562 2017-08-17 04:02:00   \n",
       "3                        51.171852        0.0     112563 2017-08-17 04:03:00   \n",
       "4                       599.999338        0.0     112564 2017-08-17 04:04:00   \n",
       "\n",
       "   cfd_Open  cfd_High  cfd_Low  cfd_Close  cfd_Volume  \n",
       "0      4280      4287     4280       4280      0.3669  \n",
       "1      4280      4287     4280       4280      0.4473  \n",
       "2      4280      4280     4270       4271      1.5517  \n",
       "3      4271      4271     4270       4271      0.5356  \n",
       "4      4271      4280     4271       4273      3.5479  "
      ]
     },
     "execution_count": 265,
     "metadata": {},
     "output_type": "execute_result"
    }
   ],
   "source": [
    "lj.head()"
   ]
  },
  {
   "cell_type": "code",
   "execution_count": 266,
   "metadata": {},
   "outputs": [],
   "source": [
    "lj1 = lj.copy() # just for direction and inner id purposes... , plus it's left for probable changes for estimation of coefficients"
   ]
  },
  {
   "cell_type": "code",
   "execution_count": 267,
   "metadata": {},
   "outputs": [],
   "source": [
    "lj1 = lj1.drop(columns = ['btcindex',  'btcOpen', 'btcHigh', 'btcLow', \n",
    "       'btcVolume', 'btcClose time', 'btcQuote asset volume',\n",
    "       'btcNumber of trades', 'btcTaker buy base asset volume',\n",
    "       'btcTaker buy quote asset volume', 'btcIgnore', 'cfd_index',\n",
    "        'cfd_Open', 'cfd_High', 'cfd_Low',\n",
    "       'cfd_Volume'])"
   ]
  },
  {
   "cell_type": "code",
   "execution_count": 268,
   "metadata": {},
   "outputs": [
    {
     "data": {
      "text/html": [
       "<div>\n",
       "<style scoped>\n",
       "    .dataframe tbody tr th:only-of-type {\n",
       "        vertical-align: middle;\n",
       "    }\n",
       "\n",
       "    .dataframe tbody tr th {\n",
       "        vertical-align: top;\n",
       "    }\n",
       "\n",
       "    .dataframe thead th {\n",
       "        text-align: right;\n",
       "    }\n",
       "</style>\n",
       "<table border=\"1\" class=\"dataframe\">\n",
       "  <thead>\n",
       "    <tr style=\"text-align: right;\">\n",
       "      <th></th>\n",
       "      <th>btcOpen time</th>\n",
       "      <th>btcClose</th>\n",
       "      <th>cfd_Gmt time</th>\n",
       "      <th>cfd_Close</th>\n",
       "    </tr>\n",
       "  </thead>\n",
       "  <tbody>\n",
       "    <tr>\n",
       "      <th>0</th>\n",
       "      <td>2017-08-17 04:00:00</td>\n",
       "      <td>4261.48</td>\n",
       "      <td>2017-08-17 04:00:00</td>\n",
       "      <td>4280</td>\n",
       "    </tr>\n",
       "    <tr>\n",
       "      <th>1</th>\n",
       "      <td>2017-08-17 04:01:00</td>\n",
       "      <td>4261.48</td>\n",
       "      <td>2017-08-17 04:01:00</td>\n",
       "      <td>4280</td>\n",
       "    </tr>\n",
       "    <tr>\n",
       "      <th>2</th>\n",
       "      <td>2017-08-17 04:02:00</td>\n",
       "      <td>4280.56</td>\n",
       "      <td>2017-08-17 04:02:00</td>\n",
       "      <td>4271</td>\n",
       "    </tr>\n",
       "    <tr>\n",
       "      <th>3</th>\n",
       "      <td>2017-08-17 04:03:00</td>\n",
       "      <td>4261.48</td>\n",
       "      <td>2017-08-17 04:03:00</td>\n",
       "      <td>4271</td>\n",
       "    </tr>\n",
       "    <tr>\n",
       "      <th>4</th>\n",
       "      <td>2017-08-17 04:04:00</td>\n",
       "      <td>4261.48</td>\n",
       "      <td>2017-08-17 04:04:00</td>\n",
       "      <td>4273</td>\n",
       "    </tr>\n",
       "  </tbody>\n",
       "</table>\n",
       "</div>"
      ],
      "text/plain": [
       "         btcOpen time  btcClose        cfd_Gmt time  cfd_Close\n",
       "0 2017-08-17 04:00:00   4261.48 2017-08-17 04:00:00       4280\n",
       "1 2017-08-17 04:01:00   4261.48 2017-08-17 04:01:00       4280\n",
       "2 2017-08-17 04:02:00   4280.56 2017-08-17 04:02:00       4271\n",
       "3 2017-08-17 04:03:00   4261.48 2017-08-17 04:03:00       4271\n",
       "4 2017-08-17 04:04:00   4261.48 2017-08-17 04:04:00       4273"
      ]
     },
     "execution_count": 268,
     "metadata": {},
     "output_type": "execute_result"
    }
   ],
   "source": [
    "lj1.head()"
   ]
  },
  {
   "cell_type": "code",
   "execution_count": 269,
   "metadata": {},
   "outputs": [],
   "source": [
    "lj1['Cfd1'] = (lj1['btcClose'] < lj1['cfd_Close']).astype(int)"
   ]
  },
  {
   "cell_type": "code",
   "execution_count": 270,
   "metadata": {},
   "outputs": [
    {
     "data": {
      "text/html": [
       "<div>\n",
       "<style scoped>\n",
       "    .dataframe tbody tr th:only-of-type {\n",
       "        vertical-align: middle;\n",
       "    }\n",
       "\n",
       "    .dataframe tbody tr th {\n",
       "        vertical-align: top;\n",
       "    }\n",
       "\n",
       "    .dataframe thead th {\n",
       "        text-align: right;\n",
       "    }\n",
       "</style>\n",
       "<table border=\"1\" class=\"dataframe\">\n",
       "  <thead>\n",
       "    <tr style=\"text-align: right;\">\n",
       "      <th></th>\n",
       "      <th>btcOpen time</th>\n",
       "      <th>btcClose</th>\n",
       "      <th>cfd_Gmt time</th>\n",
       "      <th>cfd_Close</th>\n",
       "      <th>Cfd1</th>\n",
       "    </tr>\n",
       "  </thead>\n",
       "  <tbody>\n",
       "    <tr>\n",
       "      <th>0</th>\n",
       "      <td>2017-08-17 04:00:00</td>\n",
       "      <td>4261.48</td>\n",
       "      <td>2017-08-17 04:00:00</td>\n",
       "      <td>4280</td>\n",
       "      <td>1</td>\n",
       "    </tr>\n",
       "    <tr>\n",
       "      <th>1</th>\n",
       "      <td>2017-08-17 04:01:00</td>\n",
       "      <td>4261.48</td>\n",
       "      <td>2017-08-17 04:01:00</td>\n",
       "      <td>4280</td>\n",
       "      <td>1</td>\n",
       "    </tr>\n",
       "    <tr>\n",
       "      <th>2</th>\n",
       "      <td>2017-08-17 04:02:00</td>\n",
       "      <td>4280.56</td>\n",
       "      <td>2017-08-17 04:02:00</td>\n",
       "      <td>4271</td>\n",
       "      <td>0</td>\n",
       "    </tr>\n",
       "    <tr>\n",
       "      <th>3</th>\n",
       "      <td>2017-08-17 04:03:00</td>\n",
       "      <td>4261.48</td>\n",
       "      <td>2017-08-17 04:03:00</td>\n",
       "      <td>4271</td>\n",
       "      <td>1</td>\n",
       "    </tr>\n",
       "    <tr>\n",
       "      <th>4</th>\n",
       "      <td>2017-08-17 04:04:00</td>\n",
       "      <td>4261.48</td>\n",
       "      <td>2017-08-17 04:04:00</td>\n",
       "      <td>4273</td>\n",
       "      <td>1</td>\n",
       "    </tr>\n",
       "  </tbody>\n",
       "</table>\n",
       "</div>"
      ],
      "text/plain": [
       "         btcOpen time  btcClose        cfd_Gmt time  cfd_Close  Cfd1\n",
       "0 2017-08-17 04:00:00   4261.48 2017-08-17 04:00:00       4280     1\n",
       "1 2017-08-17 04:01:00   4261.48 2017-08-17 04:01:00       4280     1\n",
       "2 2017-08-17 04:02:00   4280.56 2017-08-17 04:02:00       4271     0\n",
       "3 2017-08-17 04:03:00   4261.48 2017-08-17 04:03:00       4271     1\n",
       "4 2017-08-17 04:04:00   4261.48 2017-08-17 04:04:00       4273     1"
      ]
     },
     "execution_count": 270,
     "metadata": {},
     "output_type": "execute_result"
    }
   ],
   "source": [
    "lj1.head()"
   ]
  },
  {
   "cell_type": "code",
   "execution_count": 271,
   "metadata": {},
   "outputs": [],
   "source": [
    "lj1 = lj1.rename(columns = {'btcOpen time' : 'time'})"
   ]
  },
  {
   "cell_type": "code",
   "execution_count": 272,
   "metadata": {},
   "outputs": [
    {
     "data": {
      "text/plain": [
       "np.float64(0.11836422686140056)"
      ]
     },
     "execution_count": 272,
     "metadata": {},
     "output_type": "execute_result"
    }
   ],
   "source": [
    "lj1['Cfd1'].sum()/len(lj1) # on;y 11 percent , so i consider that 89 percent of time , it's either more or the same "
   ]
  },
  {
   "cell_type": "code",
   "execution_count": 273,
   "metadata": {},
   "outputs": [],
   "source": [
    "from datetime import datetime, timedelta\n"
   ]
  },
  {
   "cell_type": "code",
   "execution_count": 274,
   "metadata": {},
   "outputs": [],
   "source": [
    "def interval(df,series,  start):\n",
    "    end = pd.to_datetime(start) + timedelta(days =15) \n",
    "    return df[(df[series] > start) & (df[series] < end)]\n"
   ]
  },
  {
   "cell_type": "code",
   "execution_count": 275,
   "metadata": {},
   "outputs": [],
   "source": [
    "# pd.to_datetime('2019-01-01') + timedelta(days)"
   ]
  },
  {
   "cell_type": "code",
   "execution_count": 276,
   "metadata": {},
   "outputs": [
    {
     "data": {
      "text/plain": [
       "[<matplotlib.lines.Line2D at 0x15d2b2200>]"
      ]
     },
     "execution_count": 276,
     "metadata": {},
     "output_type": "execute_result"
    },
    {
     "data": {
      "image/png": "[encoded data removed]",
      "text/plain": [
       "<Figure size 640x480 with 1 Axes>"
      ]
     },
     "metadata": {},
     "output_type": "display_data"
    }
   ],
   "source": [
    "plt.step(interval(lj1, \"time\",'2017-09-01')['time'],interval(lj1, \"time\",'2017-09-01')['Cfd1'], 'bo')\n",
    "# plt.ylim(0.95,2)"
   ]
  },
  {
   "cell_type": "markdown",
   "metadata": {},
   "source": [
    "I suppose that cfd > btc only in 2017 </br> Let's check it"
   ]
  },
  {
   "cell_type": "code",
   "execution_count": 277,
   "metadata": {},
   "outputs": [],
   "source": [
    "# pd.to_datetime(lj1['time']).year"
   ]
  },
  {
   "cell_type": "code",
   "execution_count": 278,
   "metadata": {},
   "outputs": [],
   "source": [
    "lj1['year'] = lj1['time'].dt.year\n",
    "\n",
    "# Step 3: Group by year and sum the boolean feature\n",
    "yearly_sum = lj1.groupby('year')['Cfd1'].sum().reset_index()"
   ]
  },
  {
   "cell_type": "code",
   "execution_count": 279,
   "metadata": {},
   "outputs": [
    {
     "data": {
      "text/html": [
       "<div>\n",
       "<style scoped>\n",
       "    .dataframe tbody tr th:only-of-type {\n",
       "        vertical-align: middle;\n",
       "    }\n",
       "\n",
       "    .dataframe tbody tr th {\n",
       "        vertical-align: top;\n",
       "    }\n",
       "\n",
       "    .dataframe thead th {\n",
       "        text-align: right;\n",
       "    }\n",
       "</style>\n",
       "<table border=\"1\" class=\"dataframe\">\n",
       "  <thead>\n",
       "    <tr style=\"text-align: right;\">\n",
       "      <th></th>\n",
       "      <th>year</th>\n",
       "      <th>Cfd1</th>\n",
       "    </tr>\n",
       "  </thead>\n",
       "  <tbody>\n",
       "    <tr>\n",
       "      <th>0</th>\n",
       "      <td>2017</td>\n",
       "      <td>128094</td>\n",
       "    </tr>\n",
       "    <tr>\n",
       "      <th>1</th>\n",
       "      <td>2018</td>\n",
       "      <td>49530</td>\n",
       "    </tr>\n",
       "    <tr>\n",
       "      <th>2</th>\n",
       "      <td>2019</td>\n",
       "      <td>34888</td>\n",
       "    </tr>\n",
       "    <tr>\n",
       "      <th>3</th>\n",
       "      <td>2020</td>\n",
       "      <td>42279</td>\n",
       "    </tr>\n",
       "    <tr>\n",
       "      <th>4</th>\n",
       "      <td>2021</td>\n",
       "      <td>105072</td>\n",
       "    </tr>\n",
       "    <tr>\n",
       "      <th>5</th>\n",
       "      <td>2022</td>\n",
       "      <td>16867</td>\n",
       "    </tr>\n",
       "    <tr>\n",
       "      <th>6</th>\n",
       "      <td>2023</td>\n",
       "      <td>22525</td>\n",
       "    </tr>\n",
       "    <tr>\n",
       "      <th>7</th>\n",
       "      <td>2024</td>\n",
       "      <td>53897</td>\n",
       "    </tr>\n",
       "    <tr>\n",
       "      <th>8</th>\n",
       "      <td>2025</td>\n",
       "      <td>845</td>\n",
       "    </tr>\n",
       "  </tbody>\n",
       "</table>\n",
       "</div>"
      ],
      "text/plain": [
       "   year    Cfd1\n",
       "0  2017  128094\n",
       "1  2018   49530\n",
       "2  2019   34888\n",
       "3  2020   42279\n",
       "4  2021  105072\n",
       "5  2022   16867\n",
       "6  2023   22525\n",
       "7  2024   53897\n",
       "8  2025     845"
      ]
     },
     "execution_count": 279,
     "metadata": {},
     "output_type": "execute_result"
    }
   ],
   "source": [
    "yearly_sum"
   ]
  },
  {
   "cell_type": "code",
   "execution_count": 280,
   "metadata": {},
   "outputs": [
    {
     "data": {
      "text/plain": [
       "[<matplotlib.lines.Line2D at 0x15d452bf0>]"
      ]
     },
     "execution_count": 280,
     "metadata": {},
     "output_type": "execute_result"
    },
    {
     "data": {
      "image/png": "[encoded data removed]",
      "text/plain": [
       "<Figure size 640x480 with 1 Axes>"
      ]
     },
     "metadata": {},
     "output_type": "display_data"
    }
   ],
   "source": [
    "plt.plot(yearly_sum['year'] , yearly_sum['Cfd1']/len(lj1)) # never goes over 3.5 %"
   ]
  },
  {
   "cell_type": "markdown",
   "metadata": {},
   "source": [
    "# Pct_change"
   ]
  },
  {
   "cell_type": "code",
   "execution_count": 281,
   "metadata": {},
   "outputs": [],
   "source": [
    "lj1['diff'] = lj1['cfd_Close'] - lj1['btcClose']\n",
    "lj1['diff_pct'] = (lj1['cfd_Close'] - lj1['btcClose']).pct_change()\n"
   ]
  },
  {
   "cell_type": "code",
   "execution_count": 282,
   "metadata": {},
   "outputs": [],
   "source": [
    "lj1['btcClose'] = lj1['btcClose'].pct_change()"
   ]
  },
  {
   "cell_type": "code",
   "execution_count": 283,
   "metadata": {},
   "outputs": [],
   "source": [
    "lj1['cfd_Close'] = lj1['cfd_Close'].pct_change()"
   ]
  },
  {
   "cell_type": "markdown",
   "metadata": {},
   "source": [
    "now, they-are are at least stationary, this would've been useful for linear regression"
   ]
  },
  {
   "cell_type": "markdown",
   "metadata": {},
   "source": [
    "## Plotting differenct"
   ]
  },
  {
   "cell_type": "code",
   "execution_count": 284,
   "metadata": {},
   "outputs": [
    {
     "data": {
      "text/plain": [
       "[<matplotlib.lines.Line2D at 0x15d4dff10>]"
      ]
     },
     "execution_count": 284,
     "metadata": {},
     "output_type": "execute_result"
    },
    {
     "data": {
      "image/png": "[encoded data removed]",
      "text/plain": [
       "<Figure size 640x480 with 1 Axes>"
      ]
     },
     "metadata": {},
     "output_type": "display_data"
    }
   ],
   "source": [
    "plt.plot(lj1['time'], lj1['cfd_Close'] - lj1['btcClose'] ) # IT OSCILLATEEEEES! good looking distribtion"
   ]
  },
  {
   "cell_type": "code",
   "execution_count": 285,
   "metadata": {},
   "outputs": [
    {
     "data": {
      "text/plain": [
       "[<matplotlib.lines.Line2D at 0x15d53e590>]"
      ]
     },
     "execution_count": 285,
     "metadata": {},
     "output_type": "execute_result"
    },
    {
     "data": {
      "image/png": "[encoded data removed]",
      "text/plain": [
       "<Figure size 640x480 with 1 Axes>"
      ]
     },
     "metadata": {},
     "output_type": "display_data"
    }
   ],
   "source": [
    "plt.plot(lj1['time'], lj1['diff'] ) #  i can't grasp the concept , but how you take the difference decides the way of the movement"
   ]
  },
  {
   "cell_type": "code",
   "execution_count": 286,
   "metadata": {},
   "outputs": [
    {
     "data": {
      "text/plain": [
       "[<matplotlib.lines.Line2D at 0x15d5c1420>]"
      ]
     },
     "execution_count": 286,
     "metadata": {},
     "output_type": "execute_result"
    },
    {
     "data": {
      "image/png": "[encoded data removed]",
      "text/plain": [
       "<Figure size 640x480 with 1 Axes>"
      ]
     },
     "metadata": {},
     "output_type": "display_data"
    }
   ],
   "source": [
    "plt.plot(lj1['time'], lj1['diff_pct']) # IT OSCILLATEEEEES! good looking distribtion"
   ]
  },
  {
   "cell_type": "markdown",
   "metadata": {},
   "source": [
    "Small rant: \n",
    "- I've spent a lot of time on this project and i see literally no difference in the cost -> no profit to be made starting from the mid 2020 </br> depending on which side you are on"
   ]
  },
  {
   "cell_type": "markdown",
   "metadata": {},
   "source": [
    "# Coding entries"
   ]
  },
  {
   "cell_type": "markdown",
   "metadata": {},
   "source": [
    "vectorbt just doesn;t work:)"
   ]
  },
  {
   "cell_type": "code",
   "execution_count": null,
   "metadata": {},
   "outputs": [],
   "source": [
    "# rsi = vbt.RSI.run(lj1.btcClose, window=14)\n",
    "# entries = rsi.rsi_crossed_below(30)\n",
    "# exits = rsi.rsi_crossed_above(80)\n",
    "# btc_pf = vbt.Portfolio.from_signals(btc.Close, entries, exits)"
   ]
  },
  {
   "cell_type": "code",
   "execution_count": 305,
   "metadata": {},
   "outputs": [
    {
     "data": {
      "image/png": "[encoded data removed]",
      "text/plain": [
       "<Figure size 1200x600 with 1 Axes>"
      ]
     },
     "metadata": {},
     "output_type": "display_data"
    },
    {
     "name": "stdout",
     "output_type": "stream",
     "text": [
      "             btcClose        RSI\n",
      "3835573  1.056814e-07  36.601806\n",
      "3835574  5.479582e-04  42.429869\n",
      "3835575  3.610213e-04  47.854942\n",
      "3835576  6.292892e-05  47.854458\n",
      "3835577  1.691372e-04  53.232273\n",
      "3835578  1.266731e-04  52.856787\n",
      "3835579 -1.213797e-05  52.656649\n",
      "3835580  1.435464e-05  52.112852\n",
      "3835581 -5.662615e-04  51.841861\n",
      "3835582 -5.030068e-04  48.510472\n",
      "3835583 -2.212526e-04  48.746624\n",
      "3835584 -2.196107e-04  48.268453\n",
      "3835585  4.259987e-05  45.554483\n",
      "3835586 -1.217691e-04  47.271536\n",
      "3835587  7.970930e-05  47.209430\n",
      "3835588  8.667960e-05  48.123725\n",
      "3835589  3.571524e-04  48.880307\n",
      "3835590 -8.769774e-06  51.429626\n",
      "3835591 -3.900999e-04  45.620996\n",
      "3835592 -1.450233e-04  45.766994\n"
     ]
    }
   ],
   "source": [
    "\n",
    "\n",
    "\n",
    "window = 26\n",
    "\n",
    "\n",
    "\n",
    "lj1['Gain'] = lj1['btcClose'].apply(lambda x: x if x > 0 else 0)\n",
    "lj1['Loss'] = lj1['btcClose'].apply(lambda x: abs(x) if x < 0 else 0)\n",
    "\n",
    "lj1['Avg Gain'] = lj1['Gain'].rolling(window=window, min_periods=1).mean()\n",
    "lj1['Avg Loss'] = lj1['Loss'].rolling(window=window, min_periods=1).mean()\n",
    "\n",
    "lj1['RS'] = lj1['Avg Gain'] / lj1['Avg Loss']\n",
    "\n",
    "# Calculate RSI\n",
    "lj1['RSI'] = 100 - (100 / (1 + lj1['RS']))\n",
    "lj1['Buy Signal'] = (lj1['RSI'] < 30)  # Oversold condition\n",
    "lj1['Sell Signal'] = (lj1['RSI'] > 70)  # Overbought condition\n",
    "# Plot the RSI\n",
    "plt.figure(figsize=(12, 6))\n",
    "plt.plot(lj1.index, lj1['RSI'], label='RSI', color='blue')\n",
    "plt.axhline(70, color='red', linestyle='--', label='Overbought (70)')\n",
    "plt.axhline(30, color='green', linestyle='--', label='Oversold (30)')\n",
    "plt.title('Relative Strength Index (RSI)')\n",
    "plt.xlabel('Date')\n",
    "plt.ylabel('RSI')\n",
    "plt.legend()\n",
    "plt.grid()\n",
    "plt.show()\n",
    "\n",
    "# Display the DataFrame with RSI values\n",
    "print(lj1[['btcClose', 'RSI']].tail(20))"
   ]
  },
  {
   "cell_type": "code",
   "execution_count": null,
   "metadata": {},
   "outputs": [
    {
     "data": {
      "text/plain": [
       "np.float64(0.03827778390460093)"
      ]
     },
     "execution_count": 310,
     "metadata": {},
     "output_type": "execute_result"
    }
   ],
   "source": [
    "lj1['Buy Signal'].sum()/len(lj1) # i suppose i did something wrong so i will try to use the other package"
   ]
  },
  {
   "cell_type": "code",
   "execution_count": 314,
   "metadata": {},
   "outputs": [],
   "source": [
    "from backtesting import Backtest, Strategy\n",
    "from backtesting.lib import crossover\n",
    "from backtesting.test import SMA"
   ]
  },
  {
   "cell_type": "code",
   "execution_count": 315,
   "metadata": {},
   "outputs": [
    {
     "data": {
      "text/plain": [
       "Index(['time', 'btcClose', 'cfd_Gmt time', 'cfd_Close', 'Cfd1', 'year', 'diff',\n",
       "       'diff_pct', 'Gain', 'Loss', 'Avg Gain', 'Avg Loss', 'RS', 'RSI',\n",
       "       'Buy Signal', 'Sell Signal'],\n",
       "      dtype='object')"
      ]
     },
     "execution_count": 315,
     "metadata": {},
     "output_type": "execute_result"
    }
   ],
   "source": [
    "lj1.columns"
   ]
  },
  {
   "cell_type": "code",
   "execution_count": 351,
   "metadata": {},
   "outputs": [],
   "source": [
    "class strategy_arbitrage(Strategy):\n",
    "    # def std_3(self,arr, n):\n",
    "    #     return np.std(arr[-n:]) * 3\n",
    "    def init(self, window, profit_margin,invest_amount):\n",
    "        invest_amount = 20\n",
    "        self.threshold = 0.2\n",
    "        self.window = window\n",
    "        self.porfit_margin = profit_margin\n",
    "        self.he_mean = self.I(SMA, self.data.diff_pct, self.window)\n",
    "        # self.he_std = self.I(self.std_3, self.data.Close, self.roll)\n",
    "        \n",
    "        self.he_upper = self.he_mean + self.threshold\n",
    "        self.he_lower = self.he_mean - self.threshold\n",
    "    def next(self):\n",
    "        if self.price_diff[-1] > self.upper_threshold[-1]:\n",
    "            if not self.position: \n",
    "                self.sell(size=1, asset='Price1', tp=self.data.Price1[-1] * 0.97, sl=self.data.Price1[-1] * 1.03)  # 3% stop-loss and take-profit\n",
    "                self.buy(size=1, asset='Price2', tp=self.data.Price2[-1] * 1.03, sl=self.data.Price2[-1] * 0.97)  # 3% stop-loss and take-profit\n",
    "\n",
    "        elif self.price_diff[-1] < self.lower_threshold[-1]:\n",
    "            if not self.position:  \n",
    "                self.buy(size=1, asset='Price1', tp=self.data.Price1[-1] * 1.03, sl=self.data.Price1[-1] * 0.97)  # 3% stop-loss and take-profit\n",
    "                self.sell(size=1, asset='Price2', tp=self.data.Price2[-1] * 0.97, sl=self.data.Price2[-1] * 1.03)  # 3% stop-loss and take-profit\n",
    "\n",
    "        if self.position:\n",
    "            if abs(self.price_diff[-1] - self.price_diff_sma[-1]) < self.threshold / 2:  # Reversion condition ( was stolen from internet)\n",
    "                self.position.close()  # Close all positions"
   ]
  },
  {
   "cell_type": "markdown",
   "metadata": {},
   "source": [
    "Choosing the best parameters"
   ]
  },
  {
   "cell_type": "code",
   "execution_count": 331,
   "metadata": {},
   "outputs": [],
   "source": [
    "data = lj1[lj1['time'] < '2022-01-01 00:00:00']"
   ]
  },
  {
   "cell_type": "code",
   "execution_count": 332,
   "metadata": {},
   "outputs": [
    {
     "data": {
      "text/html": [
       "<div>\n",
       "<style scoped>\n",
       "    .dataframe tbody tr th:only-of-type {\n",
       "        vertical-align: middle;\n",
       "    }\n",
       "\n",
       "    .dataframe tbody tr th {\n",
       "        vertical-align: top;\n",
       "    }\n",
       "\n",
       "    .dataframe thead th {\n",
       "        text-align: right;\n",
       "    }\n",
       "</style>\n",
       "<table border=\"1\" class=\"dataframe\">\n",
       "  <thead>\n",
       "    <tr style=\"text-align: right;\">\n",
       "      <th></th>\n",
       "      <th>btcindex</th>\n",
       "      <th>btcOpen time</th>\n",
       "      <th>btcOpen</th>\n",
       "      <th>btcHigh</th>\n",
       "      <th>btcLow</th>\n",
       "      <th>btcClose</th>\n",
       "      <th>btcVolume</th>\n",
       "      <th>btcClose time</th>\n",
       "      <th>btcQuote asset volume</th>\n",
       "      <th>btcNumber of trades</th>\n",
       "      <th>btcTaker buy base asset volume</th>\n",
       "      <th>btcTaker buy quote asset volume</th>\n",
       "      <th>btcIgnore</th>\n",
       "      <th>cfd_index</th>\n",
       "      <th>cfd_Gmt time</th>\n",
       "      <th>cfd_Open</th>\n",
       "      <th>cfd_High</th>\n",
       "      <th>cfd_Low</th>\n",
       "      <th>cfd_Close</th>\n",
       "      <th>cfd_Volume</th>\n",
       "    </tr>\n",
       "  </thead>\n",
       "  <tbody>\n",
       "    <tr>\n",
       "      <th>0</th>\n",
       "      <td>0</td>\n",
       "      <td>2017-08-17 04:00:00</td>\n",
       "      <td>4261.48</td>\n",
       "      <td>4261.48</td>\n",
       "      <td>4261.48</td>\n",
       "      <td>4261.48</td>\n",
       "      <td>1.775183</td>\n",
       "      <td>2017-08-17 04:00:59.999</td>\n",
       "      <td>7564.906851</td>\n",
       "      <td>3.0</td>\n",
       "      <td>0.075183</td>\n",
       "      <td>320.390851</td>\n",
       "      <td>0.0</td>\n",
       "      <td>112560</td>\n",
       "      <td>2017-08-17 04:00:00</td>\n",
       "      <td>4280</td>\n",
       "      <td>4287</td>\n",
       "      <td>4280</td>\n",
       "      <td>4280</td>\n",
       "      <td>0.3669</td>\n",
       "    </tr>\n",
       "    <tr>\n",
       "      <th>1</th>\n",
       "      <td>1</td>\n",
       "      <td>2017-08-17 04:01:00</td>\n",
       "      <td>4261.48</td>\n",
       "      <td>4261.48</td>\n",
       "      <td>4261.48</td>\n",
       "      <td>4261.48</td>\n",
       "      <td>0.000000</td>\n",
       "      <td>2017-08-17 04:01:59.999</td>\n",
       "      <td>0.000000</td>\n",
       "      <td>0.0</td>\n",
       "      <td>0.000000</td>\n",
       "      <td>0.000000</td>\n",
       "      <td>0.0</td>\n",
       "      <td>112561</td>\n",
       "      <td>2017-08-17 04:01:00</td>\n",
       "      <td>4280</td>\n",
       "      <td>4287</td>\n",
       "      <td>4280</td>\n",
       "      <td>4280</td>\n",
       "      <td>0.4473</td>\n",
       "    </tr>\n",
       "    <tr>\n",
       "      <th>2</th>\n",
       "      <td>2</td>\n",
       "      <td>2017-08-17 04:02:00</td>\n",
       "      <td>4280.56</td>\n",
       "      <td>4280.56</td>\n",
       "      <td>4280.56</td>\n",
       "      <td>4280.56</td>\n",
       "      <td>0.261074</td>\n",
       "      <td>2017-08-17 04:02:59.999</td>\n",
       "      <td>1117.542921</td>\n",
       "      <td>2.0</td>\n",
       "      <td>0.261074</td>\n",
       "      <td>1117.542921</td>\n",
       "      <td>0.0</td>\n",
       "      <td>112562</td>\n",
       "      <td>2017-08-17 04:02:00</td>\n",
       "      <td>4280</td>\n",
       "      <td>4280</td>\n",
       "      <td>4270</td>\n",
       "      <td>4271</td>\n",
       "      <td>1.5517</td>\n",
       "    </tr>\n",
       "    <tr>\n",
       "      <th>3</th>\n",
       "      <td>3</td>\n",
       "      <td>2017-08-17 04:03:00</td>\n",
       "      <td>4261.48</td>\n",
       "      <td>4261.48</td>\n",
       "      <td>4261.48</td>\n",
       "      <td>4261.48</td>\n",
       "      <td>0.012008</td>\n",
       "      <td>2017-08-17 04:03:59.999</td>\n",
       "      <td>51.171852</td>\n",
       "      <td>3.0</td>\n",
       "      <td>0.012008</td>\n",
       "      <td>51.171852</td>\n",
       "      <td>0.0</td>\n",
       "      <td>112563</td>\n",
       "      <td>2017-08-17 04:03:00</td>\n",
       "      <td>4271</td>\n",
       "      <td>4271</td>\n",
       "      <td>4270</td>\n",
       "      <td>4271</td>\n",
       "      <td>0.5356</td>\n",
       "    </tr>\n",
       "    <tr>\n",
       "      <th>4</th>\n",
       "      <td>4</td>\n",
       "      <td>2017-08-17 04:04:00</td>\n",
       "      <td>4261.48</td>\n",
       "      <td>4261.48</td>\n",
       "      <td>4261.48</td>\n",
       "      <td>4261.48</td>\n",
       "      <td>0.140796</td>\n",
       "      <td>2017-08-17 04:04:59.999</td>\n",
       "      <td>599.999338</td>\n",
       "      <td>1.0</td>\n",
       "      <td>0.140796</td>\n",
       "      <td>599.999338</td>\n",
       "      <td>0.0</td>\n",
       "      <td>112564</td>\n",
       "      <td>2017-08-17 04:04:00</td>\n",
       "      <td>4271</td>\n",
       "      <td>4280</td>\n",
       "      <td>4271</td>\n",
       "      <td>4273</td>\n",
       "      <td>3.5479</td>\n",
       "    </tr>\n",
       "  </tbody>\n",
       "</table>\n",
       "</div>"
      ],
      "text/plain": [
       "   btcindex        btcOpen time  btcOpen  btcHigh   btcLow  btcClose  \\\n",
       "0         0 2017-08-17 04:00:00  4261.48  4261.48  4261.48   4261.48   \n",
       "1         1 2017-08-17 04:01:00  4261.48  4261.48  4261.48   4261.48   \n",
       "2         2 2017-08-17 04:02:00  4280.56  4280.56  4280.56   4280.56   \n",
       "3         3 2017-08-17 04:03:00  4261.48  4261.48  4261.48   4261.48   \n",
       "4         4 2017-08-17 04:04:00  4261.48  4261.48  4261.48   4261.48   \n",
       "\n",
       "   btcVolume            btcClose time  btcQuote asset volume  \\\n",
       "0   1.775183  2017-08-17 04:00:59.999            7564.906851   \n",
       "1   0.000000  2017-08-17 04:01:59.999               0.000000   \n",
       "2   0.261074  2017-08-17 04:02:59.999            1117.542921   \n",
       "3   0.012008  2017-08-17 04:03:59.999              51.171852   \n",
       "4   0.140796  2017-08-17 04:04:59.999             599.999338   \n",
       "\n",
       "   btcNumber of trades  btcTaker buy base asset volume  \\\n",
       "0                  3.0                        0.075183   \n",
       "1                  0.0                        0.000000   \n",
       "2                  2.0                        0.261074   \n",
       "3                  3.0                        0.012008   \n",
       "4                  1.0                        0.140796   \n",
       "\n",
       "   btcTaker buy quote asset volume  btcIgnore  cfd_index        cfd_Gmt time  \\\n",
       "0                       320.390851        0.0     112560 2017-08-17 04:00:00   \n",
       "1                         0.000000        0.0     112561 2017-08-17 04:01:00   \n",
       "2                      1117.542921        0.0     112562 2017-08-17 04:02:00   \n",
       "3                        51.171852        0.0     112563 2017-08-17 04:03:00   \n",
       "4                       599.999338        0.0     112564 2017-08-17 04:04:00   \n",
       "\n",
       "   cfd_Open  cfd_High  cfd_Low  cfd_Close  cfd_Volume  \n",
       "0      4280      4287     4280       4280      0.3669  \n",
       "1      4280      4287     4280       4280      0.4473  \n",
       "2      4280      4280     4270       4271      1.5517  \n",
       "3      4271      4271     4270       4271      0.5356  \n",
       "4      4271      4280     4271       4273      3.5479  "
      ]
     },
     "execution_count": 332,
     "metadata": {},
     "output_type": "execute_result"
    }
   ],
   "source": [
    "lj.head()"
   ]
  },
  {
   "cell_type": "code",
   "execution_count": 378,
   "metadata": {},
   "outputs": [],
   "source": [
    "#lj_diff_train\n",
    "lj_diff_train = pd.DataFrame()\n",
    "lj_diff_train['time'] = lj['btcOpen time']\n",
    "# lj_diff_train['Price1'] =lj['cfd_High']/10000000\n",
    "# lj_diff_train['Price2'] =lj['btcHigh']/10000000\n",
    "lj_diff_train['High'] = (lj['cfd_High'] - lj['btcHigh']).pct_change()\n",
    "\n",
    "lj_diff_train['Low'] = (lj['cfd_Low'] - lj['btcLow']).pct_change()\n",
    "lj_diff_train['Close'] = (lj['cfd_Close'] - lj['btcClose']).pct_change()\n",
    "lj_diff_train['Open'] = (lj['cfd_Open'] - lj['btcOpen']).pct_change()\n",
    "lj_diff_train['Volume'] = (abs(lj['cfd_Volume'] + lj['btcVolume'])/2)\n",
    "lj_diff_train = lj_diff_train[lj_diff_train['time']< '2022-01-01 00:00:00']\n",
    "lj_diff_train = lj_diff_train.dropna()"
   ]
  },
  {
   "cell_type": "markdown",
   "metadata": {},
   "source": [
    "This t"
   ]
  },
  {
   "cell_type": "code",
   "execution_count": 375,
   "metadata": {},
   "outputs": [
    {
     "data": {
      "text/html": [
       "<div>\n",
       "<style scoped>\n",
       "    .dataframe tbody tr th:only-of-type {\n",
       "        vertical-align: middle;\n",
       "    }\n",
       "\n",
       "    .dataframe tbody tr th {\n",
       "        vertical-align: top;\n",
       "    }\n",
       "\n",
       "    .dataframe thead th {\n",
       "        text-align: right;\n",
       "    }\n",
       "</style>\n",
       "<table border=\"1\" class=\"dataframe\">\n",
       "  <thead>\n",
       "    <tr style=\"text-align: right;\">\n",
       "      <th></th>\n",
       "      <th>time</th>\n",
       "      <th>High</th>\n",
       "      <th>Low</th>\n",
       "      <th>Close</th>\n",
       "      <th>Open</th>\n",
       "      <th>Volume</th>\n",
       "    </tr>\n",
       "  </thead>\n",
       "  <tbody>\n",
       "    <tr>\n",
       "      <th>1</th>\n",
       "      <td>2017-08-17 04:01:00</td>\n",
       "      <td>0.000000</td>\n",
       "      <td>0.000000</td>\n",
       "      <td>0.000000</td>\n",
       "      <td>0.000000</td>\n",
       "      <td>-0.791185</td>\n",
       "    </tr>\n",
       "    <tr>\n",
       "      <th>2</th>\n",
       "      <td>2017-08-17 04:02:00</td>\n",
       "      <td>-1.021944</td>\n",
       "      <td>-1.570194</td>\n",
       "      <td>-1.516199</td>\n",
       "      <td>-1.030238</td>\n",
       "      <td>3.052703</td>\n",
       "    </tr>\n",
       "    <tr>\n",
       "      <th>3</th>\n",
       "      <td>2017-08-17 04:03:00</td>\n",
       "      <td>-18.000000</td>\n",
       "      <td>-1.806818</td>\n",
       "      <td>-1.995816</td>\n",
       "      <td>-18.000000</td>\n",
       "      <td>-0.697917</td>\n",
       "    </tr>\n",
       "    <tr>\n",
       "      <th>4</th>\n",
       "      <td>2017-08-17 04:04:00</td>\n",
       "      <td>0.945378</td>\n",
       "      <td>0.117371</td>\n",
       "      <td>0.210084</td>\n",
       "      <td>0.000000</td>\n",
       "      <td>5.736016</td>\n",
       "    </tr>\n",
       "    <tr>\n",
       "      <th>5</th>\n",
       "      <td>2017-08-17 04:05:00</td>\n",
       "      <td>-0.377970</td>\n",
       "      <td>-0.420168</td>\n",
       "      <td>-0.520833</td>\n",
       "      <td>0.210084</td>\n",
       "      <td>-0.309973</td>\n",
       "    </tr>\n",
       "  </tbody>\n",
       "</table>\n",
       "</div>"
      ],
      "text/plain": [
       "                 time       High       Low     Close       Open    Volume\n",
       "1 2017-08-17 04:01:00   0.000000  0.000000  0.000000   0.000000 -0.791185\n",
       "2 2017-08-17 04:02:00  -1.021944 -1.570194 -1.516199  -1.030238  3.052703\n",
       "3 2017-08-17 04:03:00 -18.000000 -1.806818 -1.995816 -18.000000 -0.697917\n",
       "4 2017-08-17 04:04:00   0.945378  0.117371  0.210084   0.000000  5.736016\n",
       "5 2017-08-17 04:05:00  -0.377970 -0.420168 -0.520833   0.210084 -0.309973"
      ]
     },
     "execution_count": 375,
     "metadata": {},
     "output_type": "execute_result"
    }
   ],
   "source": [
    "lj_diff_train.head()"
   ]
  },
  {
   "cell_type": "code",
   "execution_count": 379,
   "metadata": {},
   "outputs": [
    {
     "name": "stderr",
     "output_type": "stream",
     "text": [
      "/Users/anatoliifrolov/Desktop/machete/venv/lib/python3.10/site-packages/backtesting/backtesting.py:1105: FutureWarning: Index.is_numeric is deprecated. Use pandas.api.types.is_any_real_numeric_dtype instead\n",
      "  (data.index.is_numeric() and\n",
      "/var/folders/bq/c87ppshj4m5d_hqbqb6pv2km0000gn/T/ipykernel_42648/4187475817.py:23: UserWarning: Some prices are larger than initial cash value. Note that fractional trading is not supported. If you want to trade Bitcoin, increase initial cash, or trade μBTC or satoshis instead (GH-134).\n",
      "  bt = Backtest(lj_diff_train, arbitrage,\n",
      "/var/folders/bq/c87ppshj4m5d_hqbqb6pv2km0000gn/T/ipykernel_42648/4187475817.py:23: UserWarning: Data index is not datetime. Assuming simple periods, but `pd.DateTimeIndex` is advised.\n",
      "  bt = Backtest(lj_diff_train, arbitrage,\n",
      "/Users/anatoliifrolov/Desktop/machete/venv/lib/python3.10/site-packages/backtesting/backtesting.py:149: RuntimeWarning: divide by zero encountered in divide\n",
      "  x = value / self._data.Close\n",
      "/Users/anatoliifrolov/Desktop/machete/venv/lib/python3.10/site-packages/backtesting/backtesting.py:149: RuntimeWarning: invalid value encountered in divide\n",
      "  x = value / self._data.Close\n",
      "/Users/anatoliifrolov/Desktop/machete/venv/lib/python3.10/site-packages/backtesting/_stats.py:97: RuntimeWarning: divide by zero encountered in scalar divide\n",
      "  s.loc['Buy & Hold Return [%]'] = (c[-1] - c[0]) / c[0] * 100  # long-only return\n",
      "Python(47632) MallocStackLogging: can't turn off malloc stack logging because it was not enabled.\n"
     ]
    },
    {
     "data": {
      "text/html": [
       "<div style=\"display: table;\"><div style=\"display: table-row;\"><div style=\"display: table-cell;\"><b title=\"bokeh.models.plots.GridPlot\">GridPlot</b>(</div><div style=\"display: table-cell;\">id&nbsp;=&nbsp;'p2425', <span id=\"p2449\" style=\"cursor: pointer;\">&hellip;)</span></div></div><div class=\"p2448\" style=\"display: none;\"><div style=\"display: table-cell;\"></div><div style=\"display: table-cell;\">align&nbsp;=&nbsp;'auto',</div></div><div class=\"p2448\" style=\"display: none;\"><div style=\"display: table-cell;\"></div><div style=\"display: table-cell;\">aspect_ratio&nbsp;=&nbsp;None,</div></div><div class=\"p2448\" style=\"display: none;\"><div style=\"display: table-cell;\"></div><div style=\"display: table-cell;\">children&nbsp;=&nbsp;[(figure(id='p2079', ...), 0, 0), (figure(id='p2178', ...), 1, 0), (figure(id='p2035', ...), 2, 0), (figure(id='p2235', ...), 3, 0), (figure(id='p2310', ...), 4, 0), (figure(id='p2358', ...), 5, 0)],</div></div><div class=\"p2448\" style=\"display: none;\"><div style=\"display: table-cell;\"></div><div style=\"display: table-cell;\">cols&nbsp;=&nbsp;None,</div></div><div class=\"p2448\" style=\"display: none;\"><div style=\"display: table-cell;\"></div><div style=\"display: table-cell;\">context_menu&nbsp;=&nbsp;None,</div></div><div class=\"p2448\" style=\"display: none;\"><div style=\"display: table-cell;\"></div><div style=\"display: table-cell;\">css_classes&nbsp;=&nbsp;[],</div></div><div class=\"p2448\" style=\"display: none;\"><div style=\"display: table-cell;\"></div><div style=\"display: table-cell;\">css_variables&nbsp;=&nbsp;{},</div></div><div class=\"p2448\" style=\"display: none;\"><div style=\"display: table-cell;\"></div><div style=\"display: table-cell;\">disabled&nbsp;=&nbsp;False,</div></div><div class=\"p2448\" style=\"display: none;\"><div style=\"display: table-cell;\"></div><div style=\"display: table-cell;\">elements&nbsp;=&nbsp;[],</div></div><div class=\"p2448\" style=\"display: none;\"><div style=\"display: table-cell;\"></div><div style=\"display: table-cell;\">flow_mode&nbsp;=&nbsp;'block',</div></div><div class=\"p2448\" style=\"display: none;\"><div style=\"display: table-cell;\"></div><div style=\"display: table-cell;\">height&nbsp;=&nbsp;None,</div></div><div class=\"p2448\" style=\"display: none;\"><div style=\"display: table-cell;\"></div><div style=\"display: table-cell;\">height_policy&nbsp;=&nbsp;'auto',</div></div><div class=\"p2448\" style=\"display: none;\"><div style=\"display: table-cell;\"></div><div style=\"display: table-cell;\">js_event_callbacks&nbsp;=&nbsp;{},</div></div><div class=\"p2448\" style=\"display: none;\"><div style=\"display: table-cell;\"></div><div style=\"display: table-cell;\">js_property_callbacks&nbsp;=&nbsp;{},</div></div><div class=\"p2448\" style=\"display: none;\"><div style=\"display: table-cell;\"></div><div style=\"display: table-cell;\">margin&nbsp;=&nbsp;None,</div></div><div class=\"p2448\" style=\"display: none;\"><div style=\"display: table-cell;\"></div><div style=\"display: table-cell;\">max_height&nbsp;=&nbsp;None,</div></div><div class=\"p2448\" style=\"display: none;\"><div style=\"display: table-cell;\"></div><div style=\"display: table-cell;\">max_width&nbsp;=&nbsp;None,</div></div><div class=\"p2448\" style=\"display: none;\"><div style=\"display: table-cell;\"></div><div style=\"display: table-cell;\">min_height&nbsp;=&nbsp;None,</div></div><div class=\"p2448\" style=\"display: none;\"><div style=\"display: table-cell;\"></div><div style=\"display: table-cell;\">min_width&nbsp;=&nbsp;None,</div></div><div class=\"p2448\" style=\"display: none;\"><div style=\"display: table-cell;\"></div><div style=\"display: table-cell;\">name&nbsp;=&nbsp;None,</div></div><div class=\"p2448\" style=\"display: none;\"><div style=\"display: table-cell;\"></div><div style=\"display: table-cell;\">resizable&nbsp;=&nbsp;False,</div></div><div class=\"p2448\" style=\"display: none;\"><div style=\"display: table-cell;\"></div><div style=\"display: table-cell;\">rows&nbsp;=&nbsp;None,</div></div><div class=\"p2448\" style=\"display: none;\"><div style=\"display: table-cell;\"></div><div style=\"display: table-cell;\">sizing_mode&nbsp;=&nbsp;'stretch_width',</div></div><div class=\"p2448\" style=\"display: none;\"><div style=\"display: table-cell;\"></div><div style=\"display: table-cell;\">spacing&nbsp;=&nbsp;0,</div></div><div class=\"p2448\" style=\"display: none;\"><div style=\"display: table-cell;\"></div><div style=\"display: table-cell;\">styles&nbsp;=&nbsp;{},</div></div><div class=\"p2448\" style=\"display: none;\"><div style=\"display: table-cell;\"></div><div style=\"display: table-cell;\">stylesheets&nbsp;=&nbsp;[],</div></div><div class=\"p2448\" style=\"display: none;\"><div style=\"display: table-cell;\"></div><div style=\"display: table-cell;\">subscribed_events&nbsp;=&nbsp;PropertyValueSet(),</div></div><div class=\"p2448\" style=\"display: none;\"><div style=\"display: table-cell;\"></div><div style=\"display: table-cell;\">syncable&nbsp;=&nbsp;True,</div></div><div class=\"p2448\" style=\"display: none;\"><div style=\"display: table-cell;\"></div><div style=\"display: table-cell;\">tags&nbsp;=&nbsp;[],</div></div><div class=\"p2448\" style=\"display: none;\"><div style=\"display: table-cell;\"></div><div style=\"display: table-cell;\">toolbar&nbsp;=&nbsp;Toolbar(id='p2424', ...),</div></div><div class=\"p2448\" style=\"display: none;\"><div style=\"display: table-cell;\"></div><div style=\"display: table-cell;\">toolbar_location&nbsp;=&nbsp;'right',</div></div><div class=\"p2448\" style=\"display: none;\"><div style=\"display: table-cell;\"></div><div style=\"display: table-cell;\">visible&nbsp;=&nbsp;True,</div></div><div class=\"p2448\" style=\"display: none;\"><div style=\"display: table-cell;\"></div><div style=\"display: table-cell;\">width&nbsp;=&nbsp;None,</div></div><div class=\"p2448\" style=\"display: none;\"><div style=\"display: table-cell;\"></div><div style=\"display: table-cell;\">width_policy&nbsp;=&nbsp;'auto')</div></div></div>\n",
       "<script>\n",
       "(function() {\n",
       "  let expanded = false;\n",
       "  const ellipsis = document.getElementById(\"p2449\");\n",
       "  ellipsis.addEventListener(\"click\", function() {\n",
       "    const rows = document.getElementsByClassName(\"p2448\");\n",
       "    for (let i = 0; i < rows.length; i++) {\n",
       "      const el = rows[i];\n",
       "      el.style.display = expanded ? \"none\" : \"table-row\";\n",
       "    }\n",
       "    ellipsis.innerHTML = expanded ? \"&hellip;)\" : \"&lsaquo;&lsaquo;&lsaquo;\";\n",
       "    expanded = !expanded;\n",
       "  });\n",
       "})();\n",
       "</script>\n"
      ],
      "text/plain": [
       "GridPlot(id='p2425', ...)"
      ]
     },
     "execution_count": 379,
     "metadata": {},
     "output_type": "execute_result"
    }
   ],
   "source": [
    "from backtesting import Backtest, Strategy\n",
    "from backtesting.lib import crossover\n",
    "\n",
    "from backtesting.test import SMA\n",
    "\n",
    "\n",
    "class arbitrage(Strategy):\n",
    "    n1 = 10\n",
    "    n2 = 20\n",
    "\n",
    "    def init(self):\n",
    "        close = self.data.Close\n",
    "        self.sma1 = self.I(SMA, close, self.n1)\n",
    "        self.sma2 = self.I(SMA, close, self.n2)\n",
    "\n",
    "    def next(self):\n",
    "        if crossover(self.sma1, self.sma2):\n",
    "            self.buy()\n",
    "        elif crossover(self.sma2, self.sma1):\n",
    "            self.sell()\n",
    "\n",
    "\n",
    "bt = Backtest(lj_diff_train, arbitrage,\n",
    "              cash=20, commission=.001,\n",
    "              exclusive_orders=True)\n",
    "\n",
    "output = bt.run()\n",
    "bt.plot()"
   ]
  },
  {
   "cell_type": "code",
   "execution_count": 374,
   "metadata": {},
   "outputs": [
    {
     "name": "stdout",
     "output_type": "stream",
     "text": [
      "Start                                     1.0\n",
      "End                                 2254552.0\n",
      "Duration                            2254551.0\n",
      "Exposure Time [%]                     0.00009\n",
      "Equity Final [$]                          0.0\n",
      "Equity Peak [$]                   12384.52407\n",
      "Return [%]                             -100.0\n",
      "Buy & Hold Return [%]                    -inf\n",
      "Return (Ann.) [%]                         0.0\n",
      "Volatility (Ann.) [%]                     NaN\n",
      "Sharpe Ratio                              NaN\n",
      "Sortino Ratio                             NaN\n",
      "Calmar Ratio                              0.0\n",
      "Max. Drawdown [%]                      -100.0\n",
      "Avg. Drawdown [%]                      -100.0\n",
      "Max. Drawdown Duration              2254530.0\n",
      "Avg. Drawdown Duration              2254530.0\n",
      "# Trades                                  1.0\n",
      "Win Rate [%]                              0.0\n",
      "Best Trade [%]                       95.63906\n",
      "Worst Trade [%]                      95.63906\n",
      "Avg. Trade [%]                       95.63906\n",
      "Max. Trade Duration                       1.0\n",
      "Avg. Trade Duration                       1.0\n",
      "Profit Factor                             NaN\n",
      "Expectancy [%]                       95.63906\n",
      "SQN                                       NaN\n",
      "Kelly Criterion                           NaN\n",
      "_strategy                           arbitrage\n",
      "_equity_curve                       Equity...\n",
      "_trades                       Size  EntryB...\n",
      "dtype: object\n"
     ]
    }
   ],
   "source": [
    "print(output)\n"
   ]
  },
  {
   "cell_type": "markdown",
   "metadata": {},
   "source": [
    "this strategy didn't work, i couldn't do a thing, would you be able to point out a mistake? It just made zero trades, thanks in advance"
   ]
  },
  {
   "cell_type": "code",
   "execution_count": null,
   "metadata": {},
   "outputs": [],
   "source": [
    "# from backtesting import Strategy\n",
    "# from backtesting.lib import crossover\n",
    "# from backtesting.test import SMA\n",
    "# import numpy as np\n",
    "\n",
    "# class StrategyArbitrage(Strategy):\n",
    "#     window = 20  # Rolling window for SMA calculation\n",
    "#     threshold = 0.2  # Price difference threshold for entering a trade\n",
    "#     profit_margin = 0.03  # Profit margin for closing trades\n",
    "#     invest_amount = 20  # Amount to invest in each trade\n",
    "\n",
    "#     def init(self):\n",
    "#         self.price_diff = self.data.Price1 - self.data.Price2\n",
    "#         self.he_mean = self.I(SMA, self.price_diff, self.window)\n",
    "        \n",
    "#         self.he_upper = self.he_mean + self.threshold\n",
    "#         self.he_lower = self.he_mean - self.threshold\n",
    "\n",
    "#     def next(self):\n",
    "#         if self.price_diff[-1] > self.he_upper[-1]:\n",
    "#             if not self.position: \n",
    "#                 price1 = self.data.Price1[-1]\n",
    "#                 price2 = self.data.Price2[-1]\n",
    "                \n",
    "#                 if price1 <= 0 or price2 <= 0 or np.isnan(price1) or np.isnan(price2):\n",
    "#                     return\n",
    "                \n",
    "#                 size1 = (self.invest_amount / price1) / self.equity\n",
    "#                 size2 = (self.invest_amount / price2) / self.equity \n",
    "                \n",
    "#                 if size1 > 0 and size2 > 0:\n",
    "#                     self.sell(size=size1)  \n",
    "#                     self.buy(size=size2)  \n",
    "\n",
    "#         elif self.price_diff[-1] < self.he_lower[-1]:\n",
    "#             if not self.position: \n",
    "#                 price1 = self.data.Price1[-1]\n",
    "#                 price2 = self.data.Price2[-1]\n",
    "                \n",
    "#                 if price1 <= 0 or price2 <= 0 or np.isnan(price1) or np.isnan(price2):\n",
    "#                     return\n",
    "                \n",
    "#                 size1 = (self.invest_amount / price1) / self.equity  \n",
    "#                 size2 = (self.invest_amount / price2) / self.equity \n",
    "                \n",
    "#                 if size1 > 0 and size2 > 0:\n",
    "#                     self.buy(size=size1)\n",
    "#                     self.sell(size=size2) \n",
    "\n",
    "#         if self.position:\n",
    "#             if abs(self.price_diff[-1] - self.he_mean[-1]) < self.threshold / 2:  # Reversion condition\n",
    "#                 self.position.close()  # Close all positions"
   ]
  },
  {
   "cell_type": "code",
   "execution_count": null,
   "metadata": {},
   "outputs": [],
   "source": []
  }
 ],
 "metadata": {
  "kernelspec": {
   "display_name": "venv",
   "language": "python",
   "name": "python3"
  },
  "language_info": {
   "codemirror_mode": {
    "name": "ipython",
    "version": 3
   },
   "file_extension": ".py",
   "mimetype": "text/x-python",
   "name": "python",
   "nbconvert_exporter": "python",
   "pygments_lexer": "ipython3",
   "version": "3.10.10"
  }
 },
 "nbformat": 4,
 "nbformat_minor": 2
}
